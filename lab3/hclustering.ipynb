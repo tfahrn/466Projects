{
 "cells": [
  {
   "cell_type": "code",
   "execution_count": 96,
   "metadata": {
    "collapsed": false
   },
   "outputs": [],
   "source": [
    "import argparse \n",
    "import re\n",
    "import pandas as pd\n",
    "import random\n",
    "import sys\n",
    "import numpy as np\n",
    "import itertools\n",
    "class Datum:\n",
    "\n",
    "    def __init__(self, position, cluster):\n",
    "        self.position = position\n",
    "        self.cluster = cluster\n",
    "\n",
    "class Cluster:\n",
    "\n",
    "    def __init__(self, number, position):\n",
    "        self.number = number\n",
    "        self.position = position\n",
    "        \n",
    "def get_data(file_name):\n",
    "    with open(file_name) as f:\n",
    "        restrictions = get_restrictions_vector(f.readline())\n",
    "        df = pd.read_csv(f, header=None, skiprows=0, usecols=restrictions)\n",
    "        df = (df - df.mean())/(df.std()) # normalize\n",
    "        \n",
    "        return df\n",
    "\n",
    "#takes two arrays as parameters\n",
    "#assumes two points being compared have same # of attributes\n",
    "def sq_eucledian_dist(x,y):\n",
    "    sum_sq_dist= 0\n",
    "    for i in range(len(x)):\n",
    "        sum_sq_dist += np.power(x[i] - y[i],2)\n",
    "    #Check for the case that a cluster is being compared to itself\n",
    "    #Make the value infinite because we dont want to consider this in our\n",
    "    #min distance calculation\n",
    "    if(sum_sq_dist == 0):\n",
    "        sum_sq_dist = float(\"inf\")\n",
    "    return sum_sq_dist\n",
    "def get_min_dist(points1, points2):\n",
    "    distances = []\n",
    "    for pt1 in points1:\n",
    "        for pt2 in points2:\n",
    "            distances.append(sq_eucledian_dist(pt1.position,pt2.position))\n",
    "    return np.min(distances)\n",
    "\n",
    "def get_restrictions_vector(line):\n",
    "    one_hot = re.split(',|\\n', line)\n",
    "    by_index = [i for i, value in enumerate(one_hot) if value == '1']\n",
    "\n",
    "    return by_index\n",
    "\n",
    "def dist_matrix(clusters):\n",
    "    dm = []\n",
    "    for points1 in clusters:\n",
    "        distances = []\n",
    "        for points2 in clusters:\n",
    "            min_dist = get_min_dist(points1, points2)\n",
    "            distances.append(min_dist)\n",
    "        \n",
    "        dm.append(distances)\n",
    "    return dm\n",
    "\n",
    "#Each data point starts as its own cluster\n",
    "def init_data(df):\n",
    "    clusters = {}\n",
    "    for i, row in df.iterrows():\n",
    "        position = [coord for coord in row]\n",
    "        clusters[i] = [(Datum(position, i))]\n",
    "    return clusters\n",
    "\n",
    "def merge_clusters(dm):\n",
    "    \n",
    "    #Need to find the clusters with the smallest distance between them\n",
    "    \n",
    "    #Get min dist of each column\n",
    "    col_mins = []\n",
    "    for col in dm:\n",
    "        col_mins.append(np.min(col))\n",
    "    min_dist = np.min(col_mins)\n",
    "    print(min_dist)\n",
    "    #get two clusters that have the min dist\n",
    "    \n",
    "    #cluster1\n",
    "    i = 0\n",
    "    idx = 0\n",
    "    for col in dm:\n",
    "        try: \n",
    "            idx = col.index(min_dist)\n",
    "        except ValueError:\n",
    "            idx = -1\n",
    "        #Break out of for loop if min dist was found\n",
    "        if(idx >=0):\n",
    "            break\n",
    "        i += 1\n",
    "    return [i,idx]\n",
    "\n",
    "def agg_clustering(df):\n",
    "    #Assign each data point to its own cluster\n",
    "    clusters = init_data(df)\n",
    "    #calculate distance matrix for current clusters\n",
    "    dm = dist_matrix(clusters.values())\n",
    "    \n",
    "    print(merge_clusters(dm))\n",
    "    return dm\n",
    "    "
   ]
  },
  {
   "cell_type": "code",
   "execution_count": 97,
   "metadata": {
    "collapsed": false
   },
   "outputs": [
    {
     "name": "stdout",
     "output_type": "stream",
     "text": [
      "1.49384097617e-05\n",
      "[5, 6]\n"
     ]
    }
   ],
   "source": [
    "df = get_data(\"data/planets.csv\")\n",
    "dm = agg_clustering(df)\n"
   ]
  },
  {
   "cell_type": "code",
   "execution_count": 99,
   "metadata": {
    "collapsed": false
   },
   "outputs": [
    {
     "data": {
      "text/plain": [
       "1.4938409761683472e-05"
      ]
     },
     "execution_count": 99,
     "metadata": {},
     "output_type": "execute_result"
    }
   ],
   "source": [
    "dm[5][6]"
   ]
  }
 ],
 "metadata": {
  "anaconda-cloud": {},
  "kernelspec": {
   "display_name": "Python [Anaconda3]",
   "language": "python",
   "name": "Python [Anaconda3]"
  },
  "language_info": {
   "codemirror_mode": {
    "name": "ipython",
    "version": 3
   },
   "file_extension": ".py",
   "mimetype": "text/x-python",
   "name": "python",
   "nbconvert_exporter": "python",
   "pygments_lexer": "ipython3",
   "version": "3.5.2"
  }
 },
 "nbformat": 4,
 "nbformat_minor": 0
}
