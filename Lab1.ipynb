{
 "cells": [
  {
   "cell_type": "code",
   "execution_count": 1,
   "metadata": {
    "collapsed": true
   },
   "outputs": [],
   "source": [
    "import pandas as pd"
   ]
  },
  {
   "cell_type": "code",
   "execution_count": 24,
   "metadata": {
    "collapsed": false
   },
   "outputs": [],
   "source": [
    "df = pd.read_csv(\"data/1000i.csv\",names = ['recpt_id','quantity','item'])"
   ]
  },
  {
   "cell_type": "code",
   "execution_count": 39,
   "metadata": {
    "collapsed": false
   },
   "outputs": [],
   "source": [
    "markbaskets = {}\n",
    "for row in df.values:\n",
    "    item_id = row[2]\n",
    "    r_id = row[0]\n",
    "    \n",
    "    if(r_id not in markbaskets):\n",
    "        markbaskets[r_id] = []\n",
    "        \n",
    "    markbaskets[r_id].append(item_id)"
   ]
  },
  {
   "cell_type": "code",
   "execution_count": 67,
   "metadata": {
    "collapsed": false
   },
   "outputs": [
    {
     "ename": "TypeError",
     "evalue": "'NoneType' object is not iterable",
     "output_type": "error",
     "traceback": [
      "\u001b[1;31m---------------------------------------------------------------------------\u001b[0m",
      "\u001b[1;31mTypeError\u001b[0m                                 Traceback (most recent call last)",
      "\u001b[1;32m<ipython-input-67-da284e5d6742>\u001b[0m in \u001b[0;36m<module>\u001b[1;34m()\u001b[0m\n\u001b[0;32m      1\u001b[0m \u001b[0mmbs\u001b[0m \u001b[1;33m=\u001b[0m \u001b[1;33m[\u001b[0m\u001b[0mmb\u001b[0m \u001b[1;32mfor\u001b[0m \u001b[0mmb\u001b[0m \u001b[1;32min\u001b[0m \u001b[0mmarkbaskets\u001b[0m\u001b[1;33m.\u001b[0m\u001b[0mvalues\u001b[0m\u001b[1;33m(\u001b[0m\u001b[1;33m)\u001b[0m\u001b[1;33m]\u001b[0m\u001b[1;33m\u001b[0m\u001b[0m\n\u001b[0;32m      2\u001b[0m \u001b[0mitemsets\u001b[0m \u001b[1;33m=\u001b[0m \u001b[0mlist\u001b[0m\u001b[1;33m(\u001b[0m\u001b[0mset\u001b[0m\u001b[1;33m(\u001b[0m\u001b[0mdf\u001b[0m\u001b[1;33m[\u001b[0m\u001b[1;34m'item'\u001b[0m\u001b[1;33m]\u001b[0m\u001b[1;33m)\u001b[0m\u001b[1;33m)\u001b[0m\u001b[1;33m\u001b[0m\u001b[0m\n\u001b[1;32m----> 3\u001b[1;33m \u001b[0mapriori\u001b[0m\u001b[1;33m(\u001b[0m\u001b[0mmbs\u001b[0m\u001b[1;33m,\u001b[0m\u001b[0mitemsets\u001b[0m\u001b[1;33m,\u001b[0m\u001b[1;36m.01\u001b[0m\u001b[1;33m)\u001b[0m\u001b[1;33m\u001b[0m\u001b[0m\n\u001b[0m",
      "\u001b[1;32m<ipython-input-66-dde3a005411d>\u001b[0m in \u001b[0;36mapriori\u001b[1;34m(mbs, itemsets, minSupp)\u001b[0m\n\u001b[0;32m     17\u001b[0m     \u001b[1;32mwhile\u001b[0m\u001b[1;33m(\u001b[0m\u001b[0mlen\u001b[0m\u001b[1;33m(\u001b[0m\u001b[0mfs\u001b[0m\u001b[1;33m[\u001b[0m\u001b[0mk\u001b[0m\u001b[1;33m-\u001b[0m\u001b[1;36m1\u001b[0m\u001b[1;33m]\u001b[0m\u001b[1;33m)\u001b[0m\u001b[1;33m>\u001b[0m\u001b[1;36m0\u001b[0m\u001b[1;33m)\u001b[0m\u001b[1;33m:\u001b[0m\u001b[1;33m\u001b[0m\u001b[0m\n\u001b[0;32m     18\u001b[0m         \u001b[1;31m#The candidates for itemsets\u001b[0m\u001b[1;33m\u001b[0m\u001b[1;33m\u001b[0m\u001b[0m\n\u001b[1;32m---> 19\u001b[1;33m         \u001b[0mpcands\u001b[0m\u001b[1;33m=\u001b[0m \u001b[0mcandGen\u001b[0m\u001b[1;33m(\u001b[0m\u001b[0mfs\u001b[0m\u001b[1;33m[\u001b[0m\u001b[0mk\u001b[0m\u001b[1;33m-\u001b[0m\u001b[1;36m1\u001b[0m\u001b[1;33m]\u001b[0m\u001b[1;33m,\u001b[0m\u001b[0mk\u001b[0m\u001b[1;33m-\u001b[0m\u001b[1;36m1\u001b[0m\u001b[1;33m)\u001b[0m\u001b[1;33m\u001b[0m\u001b[0m\n\u001b[0m\u001b[0;32m     20\u001b[0m         \u001b[1;31m#Counts the number of market baskets that contain the potential candidate\u001b[0m\u001b[1;33m\u001b[0m\u001b[1;33m\u001b[0m\u001b[0m\n\u001b[0;32m     21\u001b[0m         \u001b[0mcounts_k\u001b[0m \u001b[1;33m=\u001b[0m \u001b[1;33m[\u001b[0m\u001b[1;33m]\u001b[0m\u001b[1;33m\u001b[0m\u001b[0m\n",
      "\u001b[1;32m<ipython-input-51-71ca20401251>\u001b[0m in \u001b[0;36mcandGen\u001b[1;34m(F, k)\u001b[0m\n\u001b[0;32m     14\u001b[0m         \u001b[1;32mfor\u001b[0m \u001b[0mitem\u001b[0m \u001b[1;32min\u001b[0m \u001b[0mcand\u001b[0m\u001b[1;33m:\u001b[0m\u001b[1;33m\u001b[0m\u001b[0m\n\u001b[0;32m     15\u001b[0m             \u001b[0mprunedCand\u001b[0m \u001b[1;33m=\u001b[0m \u001b[0mcand\u001b[0m\u001b[1;33m.\u001b[0m\u001b[0mremove\u001b[0m\u001b[1;33m(\u001b[0m\u001b[0mitem\u001b[0m\u001b[1;33m)\u001b[0m\u001b[1;33m\u001b[0m\u001b[0m\n\u001b[1;32m---> 16\u001b[1;33m             \u001b[1;32mif\u001b[0m\u001b[1;33m(\u001b[0m\u001b[1;32mnot\u001b[0m \u001b[0misSubset\u001b[0m\u001b[1;33m(\u001b[0m\u001b[0mprunedCand\u001b[0m\u001b[1;33m,\u001b[0m \u001b[0mF\u001b[0m\u001b[1;33m)\u001b[0m\u001b[1;33m)\u001b[0m\u001b[1;33m:\u001b[0m\u001b[1;33m\u001b[0m\u001b[0m\n\u001b[0m\u001b[0;32m     17\u001b[0m                 \u001b[0mflag\u001b[0m \u001b[1;33m=\u001b[0m \u001b[1;32mFalse\u001b[0m\u001b[1;33m\u001b[0m\u001b[0m\n\u001b[0;32m     18\u001b[0m         \u001b[1;31m#Remove candidates that were flagged having low support\u001b[0m\u001b[1;33m\u001b[0m\u001b[1;33m\u001b[0m\u001b[0m\n",
      "\u001b[1;32m<ipython-input-63-4e32c448b044>\u001b[0m in \u001b[0;36misSubset\u001b[1;34m(A, B)\u001b[0m\n\u001b[0;32m      1\u001b[0m \u001b[1;31m#takes two lists, returns True iff A is subset of B\u001b[0m\u001b[1;33m\u001b[0m\u001b[1;33m\u001b[0m\u001b[0m\n\u001b[0;32m      2\u001b[0m \u001b[1;32mdef\u001b[0m \u001b[0misSubset\u001b[0m\u001b[1;33m(\u001b[0m\u001b[0mA\u001b[0m\u001b[1;33m,\u001b[0m \u001b[0mB\u001b[0m\u001b[1;33m)\u001b[0m\u001b[1;33m:\u001b[0m\u001b[1;33m\u001b[0m\u001b[0m\n\u001b[1;32m----> 3\u001b[1;33m     \u001b[1;32mreturn\u001b[0m \u001b[0mall\u001b[0m\u001b[1;33m(\u001b[0m\u001b[0ma\u001b[0m \u001b[1;32min\u001b[0m \u001b[0mB\u001b[0m \u001b[1;32mfor\u001b[0m \u001b[0ma\u001b[0m \u001b[1;32min\u001b[0m \u001b[0mA\u001b[0m\u001b[1;33m)\u001b[0m\u001b[1;33m\u001b[0m\u001b[0m\n\u001b[0m",
      "\u001b[1;31mTypeError\u001b[0m: 'NoneType' object is not iterable"
     ]
    }
   ],
   "source": [
    "mbs = [mb for mb in markbaskets.values()]\n",
    "itemsets = list(set(df['item']))\n",
    "apriori(mbs,itemsets,.01)"
   ]
  },
  {
   "cell_type": "code",
   "execution_count": 66,
   "metadata": {
    "collapsed": true
   },
   "outputs": [],
   "source": [
    "def apriori(mbs,itemsets,minSupp):\n",
    "    #Fx all items sets of length x where the support of an item set is greater\n",
    "    #than the minimum support\n",
    "    #all the f arrays\n",
    "    fs= []\n",
    "    f1 = []\n",
    "    for iset in itemsets:\n",
    "        if(type(iset) is not list):\n",
    "            iset = [iset]\n",
    "               \n",
    "        supp = getSupport(iset,mbs)\n",
    "        if(supp >= minSupp):\n",
    "             f1.append(iset)     \n",
    "    fs.append(f1)\n",
    "    k = 1\n",
    "    \n",
    "    while(len(fs[k-1])>0):\n",
    "        #The candidates for itemsets\n",
    "        pcands= candGen(fs[k-1],k-1)\n",
    "        #Counts the number of market baskets that contain the potential candidate\n",
    "        counts_k = []\n",
    "        #Initializing all counts to 0\n",
    "        for c in pcands:\n",
    "            counts_k.append(0)\n",
    "        \n",
    "        cand_idx = 0\n",
    "        for mb in mbs:\n",
    "            for c in pcands:\n",
    "                if(isSubset(c,mb)):\n",
    "                    counts_k[cand_idx]+=1\n",
    "                cand_idx+=1    \n",
    "            cand_idx = 0\n",
    "        \n",
    "        fk = []\n",
    "        \n",
    "        while(cand_idx < len(pcands)):\n",
    "            if(counts_k[cand_idx]/len(mbs) >= minSupp):\n",
    "                fk.append(pcands[cand_idx])\n",
    "            cand_idx += 1\n",
    "        \n",
    "        fs.append(fk)   \n",
    "        k += 1\n",
    "                    \n",
    "    \n",
    "    return fs\n",
    "        \n",
    "        \n",
    "    "
   ]
  },
  {
   "cell_type": "code",
   "execution_count": 48,
   "metadata": {
    "collapsed": true
   },
   "outputs": [],
   "source": [
    "#Returns support of itemset\n",
    "#Checks how many marketbaskets contain the itemset\n",
    "def getSupport(itemset,mbs):\n",
    "    count = 0\n",
    "    for mb in mbs:\n",
    "        if isSubset(itemset,mb):\n",
    "            count+=1\n",
    "    return count/len(mbs)\n"
   ]
  },
  {
   "cell_type": "code",
   "execution_count": 51,
   "metadata": {
    "collapsed": false
   },
   "outputs": [],
   "source": [
    "#Passing in arrray of itemsets of length k\n",
    "#the size/length of the item sets K\n",
    "def candGen(F,k):\n",
    "    candidates = []\n",
    "    \n",
    "    for f1 in F:\n",
    "        for f2 in F:\n",
    "            if( (f1 is not f2) and (len(list(set(f1).union(f2))) == len(f1)+1) ):\n",
    "                candidate = list(set(f1).union(f2))\n",
    "                candidates.append(candidate)\n",
    "                \n",
    "    for cand in candidates:\n",
    "        flag = True\n",
    "        for item in cand:\n",
    "            prunedCand = cand.remove(item)\n",
    "            if(not isSubset(prunedCand, F)):\n",
    "                flag = False\n",
    "        #Remove candidates that were flagged having low support\n",
    "        if(not flag):\n",
    "            candidates = candidates.remove(cand)\n",
    "    return candidates          \n",
    "                \n",
    "    "
   ]
  },
  {
   "cell_type": "code",
   "execution_count": 63,
   "metadata": {
    "collapsed": true
   },
   "outputs": [],
   "source": [
    "#takes two lists, returns True iff A is subset of B\n",
    "def isSubset(A, B):\n",
    "    return all(a in B for a in A)"
   ]
  }
 ],
 "metadata": {
  "kernelspec": {
   "display_name": "Python [Anaconda3]",
   "language": "python",
   "name": "Python [Anaconda3]"
  },
  "language_info": {
   "codemirror_mode": {
    "name": "ipython",
    "version": 3
   },
   "file_extension": ".py",
   "mimetype": "text/x-python",
   "name": "python",
   "nbconvert_exporter": "python",
   "pygments_lexer": "ipython3",
   "version": "3.5.2"
  }
 },
 "nbformat": 4,
 "nbformat_minor": 0
}
