{
 "cells": [
  {
   "cell_type": "code",
   "execution_count": 1,
   "metadata": {
    "collapsed": true
   },
   "outputs": [],
   "source": [
    "import pandas as pd\n",
    "from matplotlib import pyplot as plt\n",
    "\n",
    "def getReceiptMbs():\n",
    "    df = pd.read_csv(\"data/75000i.csv\",names = ['recpt_id','quantity','item'])\n",
    "    \n",
    "    # mbs: market baskets; maps the receipt number to a set of all the items purchased\n",
    "    mbs = {}\n",
    "    for row in df.values:\n",
    "        item_id = row[2]\n",
    "        r_id = row[0]\n",
    "\n",
    "        if(r_id not in mbs):\n",
    "            mbs[r_id] = set()\n",
    "\n",
    "        mbs[r_id].add(item_id)\n",
    "    \n",
    "    return mbs"
   ]
  },
  {
   "cell_type": "code",
   "execution_count": 2,
   "metadata": {
    "collapsed": true
   },
   "outputs": [],
   "source": [
    "def getItemSets():\n",
    "    df = pd.read_csv(\"data/1000i.csv\",names = ['recpt_id','quantity','item'])\n",
    "    \n",
    "    return set(df['item'])"
   ]
  },
  {
   "cell_type": "code",
   "execution_count": 3,
   "metadata": {
    "collapsed": true
   },
   "outputs": [],
   "source": [
    "# Returns support of itemset\n",
    "# Checks how many marketbaskets contain the itemset\n",
    "def getSupport(itemset,mbs):\n",
    "    count = 0\n",
    "    for mb in mbs:\n",
    "        if (itemset.issubset(mb)):\n",
    "            count+=1\n",
    "    return count/len(mbs)"
   ]
  },
  {
   "cell_type": "code",
   "execution_count": 4,
   "metadata": {
    "collapsed": true
   },
   "outputs": [],
   "source": [
    "\"\"\"\n",
    "mbs: marketbaskets; map of receipt number to market basket\n",
    "itemset: set of all items\n",
    "minSup: minimum support number\n",
    "\n",
    "return:\n",
    "\"\"\"\n",
    "def apriori(mbs, itemset, minSup):\n",
    "    F = [] # list of F1, F2, ..., Fn\n",
    "    F1 = [] # list of all item sets of length 1 where the support of the item set > minSup\n",
    "    \n",
    "    for item in itemset:            \n",
    "        itemSup = getSupport(set([item]), mbs.values())\n",
    "        if(itemSup >= minSup):\n",
    "             F1.append(set([item]))\n",
    "                \n",
    "    F.append(F1)\n",
    "    \n",
    "    k = 1 #index to iterate F, eg. F[0] == F1\n",
    "    while(len(F[k-1]) > 0):\n",
    "        Ck = candidateGen(F[k-1], k-1) # candidate frequent itemsets of length k+1\n",
    "        Fk = []\n",
    "        \n",
    "        for candidate in Ck:\n",
    "            count = 0\n",
    "            for mb in mbs.values():\n",
    "                if(candidate.issubset(mb)):\n",
    "                    count += 1\n",
    "\n",
    "            if(count/len(mbs) >= minSup):\n",
    "                Fk.append(candidate)\n",
    "        \n",
    "        F.append(Fk)   \n",
    "        k += 1\n",
    "                    \n",
    "    return F"
   ]
  },
  {
   "cell_type": "code",
   "execution_count": 5,
   "metadata": {
    "collapsed": true
   },
   "outputs": [],
   "source": [
    "# Passing in arrray of itemsets of length k\n",
    "# the size/length of the item sets K\n",
    "# return: set of candidate frequent item sets of length k+1\n",
    "def candidateGen(Fk, k):\n",
    "    candidates = set()\n",
    "    finalCandidates = set()\n",
    "    \n",
    "    #generate candidates of length k+1\n",
    "    for itemset1 in Fk:\n",
    "        for itemset2 in Fk:\n",
    "            # check len(set) == k?\n",
    "            union = itemset1.union(itemset2)\n",
    "            if( (itemset1 is not itemset2) and (len(union) == len(itemset1) + 1) ):\n",
    "                candidates.add(frozenset(union))\n",
    "    \n",
    "    #prune candidates\n",
    "    for cand in candidates:\n",
    "        isValid = True\n",
    "        for item in cand:\n",
    "            prunedCand = set([c for c in cand if c != item])\n",
    "            if (prunedCand not in Fk):\n",
    "                isValid = False\n",
    "                continue;\n",
    "        if (isValid):\n",
    "            finalCandidates.add(cand)\n",
    "            \n",
    "    return finalCandidates "
   ]
  },
  {
   "cell_type": "code",
   "execution_count": 6,
   "metadata": {
    "collapsed": true
   },
   "outputs": [],
   "source": [
    "def maximal(itemsets):\n",
    "    all_itemsets = []\n",
    "    maximal = []\n",
    "    \n",
    "    for itemset_list in itemsets:\n",
    "        for itemset in itemset_list:\n",
    "            all_itemsets.append(set(itemset))\n",
    "    \n",
    "    for itemset1 in all_itemsets:\n",
    "        isMaximal = True\n",
    "        for itemset2 in all_itemsets:\n",
    "            if itemset1 is not itemset2 and itemset1.issubset(itemset2):\n",
    "                isMaximal = False\n",
    "        if isMaximal:\n",
    "            maximal.append(itemset1)\n",
    "    \n",
    "    return maximal"
   ]
  },
  {
   "cell_type": "code",
   "execution_count": 7,
   "metadata": {
    "collapsed": true
   },
   "outputs": [],
   "source": [
    "def genRules(mbs, F, minConf):\n",
    "    H1 = []\n",
    "    \n",
    "    for itemset in F:\n",
    "        if len(itemset) < 2:\n",
    "            continue;\n",
    "        \n",
    "        for item in itemset:\n",
    "            conf = getSupport(itemset, mbs.values()) / getSupport(itemset - set([item]), mbs.values())\n",
    "            if conf >= minConf:\n",
    "                H1.append([itemset - set([item]), item])\n",
    "        \n",
    "    return H1   "
   ]
  },
  {
   "cell_type": "code",
   "execution_count": 8,
   "metadata": {
    "collapsed": true
   },
   "outputs": [],
   "source": [
    "def main():\n",
    "    mbs = getReceiptMbs()\n",
    "    itemsets = getItemSets()\n",
    "    frequent_itemsets = apriori(mbs,itemsets, .02)\n",
    "    maximal_itemsets = maximal(frequent_itemsets)\n",
    "    maximal_rules = genRules(mbs, maximal_itemsets, .75)\n",
    "    \n",
    "    rule_supports = []\n",
    "    rule_confidences = []\n",
    "    \n",
    "    for itemset in maximal_itemsets:\n",
    "        support = getSupport(itemset, mbs.values())\n",
    "        print(itemset, \" has support: \", support)\n",
    "    \n",
    "    # plot confidence vs support\n",
    "    for rule in maximal_rules:\n",
    "        itemset = rule[0].union([rule[1]])\n",
    "        support = getSupport(itemset, mbs.values())\n",
    "        confidence = getSupport(itemset, mbs.values()) / getSupport((rule[0]), mbs.values())\n",
    "\n",
    "        rule_supports.append(support)\n",
    "        rule_confidences.append(confidence)\n",
    "        #print(\"rule: \", rule[0], \" --> \", rule[1], \" has support \", support, \" and confidence \", confidence)\n",
    "        \n",
    "    plt.plot(rule_supports, rule_confidences)\n",
    "    plt.xlabel('support')\n",
    "    plt.ylabel('confidence')\n",
    "    \n",
    "    plt.show()\n",
    "\n",
    "    "
   ]
  },
  {
   "cell_type": "code",
   "execution_count": 9,
   "metadata": {},
   "outputs": [
    {
     "name": "stdout",
     "output_type": "stream",
     "text": [
      "{6}  has support:  0.04237333333333333\n",
      "{8}  has support:  0.04252\n",
      "{10}  has support:  0.04204\n",
      "{13}  has support:  0.04236\n",
      "{20}  has support:  0.04337333333333333\n",
      "{21}  has support:  0.04324\n",
      "{25}  has support:  0.041933333333333336\n",
      "{26}  has support:  0.04238666666666667\n",
      "{30}  has support:  0.04273333333333333\n",
      "{34}  has support:  0.04324\n",
      "{38}  has support:  0.04244\n",
      "{39}  has support:  0.04409333333333333\n",
      "{5, 22}  has support:  0.04392\n",
      "{33, 42}  has support:  0.04306666666666667\n",
      "{27, 28}  has support:  0.05092\n",
      "{9, 4}  has support:  0.043146666666666667\n",
      "{44, 14}  has support:  0.0378\n",
      "{1, 19}  has support:  0.036853333333333335\n",
      "{16, 32, 45}  has support:  0.032826666666666664\n",
      "{49, 7, 15}  has support:  0.0272\n",
      "{0, 2, 46}  has support:  0.03338666666666667\n",
      "{17, 29, 47}  has support:  0.02676\n",
      "{35, 18, 3}  has support:  0.041106666666666666\n",
      "{48, 36, 12, 31}  has support:  0.020586666666666666\n",
      "{45, 11, 37, 7}  has support:  0.02792\n",
      "{23, 40, 41, 43, 24}  has support:  0.020733333333333333\n"
     ]
    },
    {
     "data": {
      "image/png": "[encoded data removed]",
      "text/plain": [
       "<matplotlib.figure.Figure at 0x1112ba898>"
      ]
     },
     "metadata": {},
     "output_type": "display_data"
    }
   ],
   "source": [
    "main()"
   ]
  }
 ],
 "metadata": {
  "kernelspec": {
   "display_name": "Python 3",
   "language": "python",
   "name": "python3"
  },
  "language_info": {
   "codemirror_mode": {
    "name": "ipython",
    "version": 3
   },
   "file_extension": ".py",
   "mimetype": "text/x-python",
   "name": "python",
   "nbconvert_exporter": "python",
   "pygments_lexer": "ipython3",
   "version": "3.6.3"
  }
 },
 "nbformat": 4,
 "nbformat_minor": 2
}
