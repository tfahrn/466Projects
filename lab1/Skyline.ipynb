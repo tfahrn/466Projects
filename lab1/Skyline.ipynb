{
 "cells": [
  {
   "cell_type": "code",
   "execution_count": 189,
   "metadata": {
    "collapsed": true
   },
   "outputs": [],
   "source": [
    "import pandas as pd\n",
    "from matplotlib import pyplot as plt\n",
    "import sys\n",
    "\n",
    "def getReceiptMbs():\n",
    "    df = pd.read_csv(\"data/75000i.csv\",names = ['recpt_id','quantity','item'])\n",
    "    \n",
    "    # mbs: market baskets; maps the receipt number to a set of all the items purchased\n",
    "    mbs = {}\n",
    "    for row in df.values:\n",
    "        item_id = row[2]\n",
    "        r_id = row[0]\n",
    "\n",
    "        if(r_id not in mbs):\n",
    "            mbs[r_id] = set()\n",
    "\n",
    "        mbs[r_id].add(item_id)\n",
    "    \n",
    "    return mbs"
   ]
  },
  {
   "cell_type": "code",
   "execution_count": 190,
   "metadata": {
    "collapsed": true
   },
   "outputs": [],
   "source": [
    "def getItemSets():\n",
    "    df = pd.read_csv(\"data/75000i.csv\",names = ['recpt_id','quantity','item'])\n",
    "    \n",
    "    return set(df['item'])"
   ]
  },
  {
   "cell_type": "code",
   "execution_count": 191,
   "metadata": {
    "collapsed": true
   },
   "outputs": [],
   "source": [
    "# Returns support of itemset\n",
    "# Checks how many marketbaskets contain the itemset\n",
    "def getSupport(itemset,mbs):\n",
    "    count = 0\n",
    "    for mb in mbs:\n",
    "        if (itemset.issubset(mb)):\n",
    "            count+=1\n",
    "    return count/len(mbs)"
   ]
  },
  {
   "cell_type": "code",
   "execution_count": 192,
   "metadata": {
    "collapsed": true
   },
   "outputs": [],
   "source": [
    "\"\"\"\n",
    "mbs: marketbaskets; map of receipt number to market basket\n",
    "itemset: set of all items\n",
    "minSup: minimum support number\n",
    "\n",
    "return:\n",
    "\"\"\"\n",
    "def apriori(mbs, itemset, minSup, maxSup):\n",
    "    F = [] # list of F1, F2, ..., Fn\n",
    "    F1 = [] # list of all item sets of length 1 where the support of the item set > minSup and < maxSup\n",
    "    FS1 = [] # list of all item sets of length 1 where support of item set > maxSup\n",
    "    \n",
    "    for item in itemset:            \n",
    "        itemSup = getSupport(set([item]), mbs)\n",
    "        if(itemSup >= minSup):\n",
    "            if(itemSup <= maxSup):\n",
    "                F1.append(set([item]))\n",
    "            else:\n",
    "                FS1.append(set([item]))\n",
    "\n",
    "    F.append(F1)\n",
    "    \n",
    "    print(\"f1: \", F1)\n",
    "    print(\"fs1: \", FS1)\n",
    "    \n",
    "    k = 1 #index to iterate F, eg. F[0] == F1\n",
    "    while(len(F[k-1]) > 0):\n",
    "        Ck = candidateGen(F[k-1], k-1) # candidate frequent itemsets of length k+1\n",
    "        Fk = []\n",
    "        \n",
    "        for candidate in Ck:\n",
    "            count = 0\n",
    "            for mb in mbs:\n",
    "                if(candidate.issubset(mb)):\n",
    "                    count += 1\n",
    "\n",
    "            if(count/len(mbs) >= minSup):\n",
    "                Fk.append(candidate)\n",
    "        \n",
    "        F.append(Fk)   \n",
    "        k += 1\n",
    "                    \n",
    "    return (F, FS1)"
   ]
  },
  {
   "cell_type": "code",
   "execution_count": 193,
   "metadata": {
    "collapsed": true
   },
   "outputs": [],
   "source": [
    "# Passing in arrray of itemsets of length k\n",
    "# the size/length of the item sets K\n",
    "# return: set of candidate frequent item sets of length k+1\n",
    "def candidateGen(Fk, k):\n",
    "    candidates = set()\n",
    "    finalCandidates = set()\n",
    "    \n",
    "    #generate candidates of length k+1\n",
    "    for itemset1 in Fk:\n",
    "        for itemset2 in Fk:\n",
    "            # check len(set) == k?\n",
    "            union = itemset1.union(itemset2)\n",
    "            if( (itemset1 is not itemset2) and (len(union) == len(itemset1) + 1) ):\n",
    "                candidates.add(frozenset(union))\n",
    "    \n",
    "    #prune candidates\n",
    "    for cand in candidates:\n",
    "        isValid = True\n",
    "        for item in cand:\n",
    "            prunedCand = set([c for c in cand if c != item])\n",
    "            if (prunedCand not in Fk):\n",
    "                isValid = False\n",
    "                continue;\n",
    "        if (isValid):\n",
    "            finalCandidates.add(cand)\n",
    "            \n",
    "    return finalCandidates "
   ]
  },
  {
   "cell_type": "code",
   "execution_count": 194,
   "metadata": {
    "collapsed": true
   },
   "outputs": [],
   "source": [
    "def maximal(itemsets):\n",
    "    all_itemsets = []\n",
    "    maximal = []\n",
    "    \n",
    "    for itemset_list in itemsets:\n",
    "        for itemset in itemset_list:\n",
    "            all_itemsets.append(set(itemset))\n",
    "    \n",
    "    for itemset1 in all_itemsets:\n",
    "        isMaximal = True\n",
    "        for itemset2 in all_itemsets:\n",
    "            if itemset1 is not itemset2 and itemset1.issubset(itemset2):\n",
    "                isMaximal = False\n",
    "        if isMaximal:\n",
    "            maximal.append(itemset1)\n",
    "    \n",
    "    return maximal"
   ]
  },
  {
   "cell_type": "code",
   "execution_count": 195,
   "metadata": {
    "collapsed": true
   },
   "outputs": [],
   "source": [
    "def genRules(mbs, F, minConf):\n",
    "    H1 = []\n",
    "    \n",
    "    for itemset in F:\n",
    "        if len(itemset) < 2:\n",
    "            continue;\n",
    "        \n",
    "        for item in itemset:\n",
    "            # conf = getSupport(itemset, mbs.values())/ getSupport(itemset - set([item]), mbs.values())\n",
    "            conf = getSupport(itemset, mbs)/ getSupport(itemset - set([item]), mbs)\n",
    "            if conf >= minConf:\n",
    "                H1.append([itemset - set([item]), item])\n",
    "        \n",
    "    return H1   "
   ]
  },
  {
   "cell_type": "code",
   "execution_count": 196,
   "metadata": {
    "collapsed": true
   },
   "outputs": [],
   "source": [
    "def get_goods():\n",
    "    goods = pd.read_csv(\"data/goods.csv\")\n",
    "    goods = goods[['Flavor','Food']]\n",
    "    good_labels = []\n",
    "    for row in goods.values:\n",
    "        foodItem = row[0].replace(\"'\",\"\") + \" \" + row[1].replace(\"'\",\"\")\n",
    "        good_labels.append(foodItem)\n",
    "    return good_labels"
   ]
  },
  {
   "cell_type": "code",
   "execution_count": 197,
   "metadata": {
    "collapsed": true
   },
   "outputs": [],
   "source": [
    "def report_rules(maxRules,labels):\n",
    "    translated = []\n",
    "    for rule in maxRules:\n",
    "        left = list(rule[0])\n",
    "        new_left = []\n",
    "        for item in left:\n",
    "            new_left.append(labels[item])\n",
    "        new_right = labels[rule[1]]\n",
    "        translated.append([new_left,new_right])\n",
    "    return translated"
   ]
  },
  {
   "cell_type": "code",
   "execution_count": 198,
   "metadata": {
    "collapsed": true
   },
   "outputs": [],
   "source": [
    "def report_itemsets(maxItemsets,labels):\n",
    "    translated = []\n",
    "    for itemset in maxItemsets:\n",
    "        new_itemset = []\n",
    "        for item in list(itemset):\n",
    "            new_itemset.append(labels[item])\n",
    "        translated.append(new_itemset)\n",
    "    return translated\n",
    "            "
   ]
  },
  {
   "cell_type": "code",
   "execution_count": 199,
   "metadata": {
    "collapsed": true
   },
   "outputs": [],
   "source": [
    "def bakery_main():\n",
    "    mbs = getReceiptMbs()\n",
    "    itemsets = getItemSets()\n",
    "    goods =  get_goods()\n",
    "    \n",
    "    SUPPORT = 0.02\n",
    "    MAX_SUPPORT = 1.0\n",
    "    CONFIDENCE = 0.75\n",
    "    (frequent_itemsets, special_itemsets) = apriori(mbs.values(),itemsets, SUPPORT, MAX_SUPPORT)\n",
    "    maximal_itemsets = maximal(frequent_itemsets)\n",
    "    labeled_itemsets = report_itemsets(maximal_itemsets,goods)\n",
    "    #Optimal confidence and support will make 10-50 maximal rules\n",
    "    maximal_rules = genRules(mbs.values(), maximal_itemsets, CONFIDENCE)\n",
    "    labeled_rules = report_rules(maximal_rules,goods)\n",
    "    \n",
    "    #Report itemsets and supports\n",
    "    for i in range(len(maximal_itemsets)):\n",
    "        support = getSupport(maximal_itemsets[i], mbs.values())\n",
    "        print(labeled_itemsets[i], \" has support: \", round(support,3))\n",
    "        \n",
    "    #Report rules, support of rules, and confidence of the rules\n",
    "    rule_supports = []\n",
    "    rule_confidences = []\n",
    "    for i in range(len(maximal_rules)):\n",
    "        itemset = maximal_rules[i][0].union([maximal_rules[i][1]])\n",
    "        support = getSupport(itemset, mbs.values())\n",
    "        confidence = getSupport(itemset, mbs.values()) / getSupport((maximal_rules[i][0]),\n",
    "                                                                    mbs.values())\n",
    "        rule_supports.append(support)\n",
    "        rule_confidences.append(confidence)\n",
    "\n",
    "        print(\"rule: \", labeled_rules[i][0], \"--> \",\n",
    "              labeled_rules[i][1],\n",
    "              \"\\nSupport:\",\n",
    "              round(support,3),\n",
    "              \"Confidence:\",\n",
    "              round(confidence,3))\n",
    "    \n",
    "    \"\"\"\n",
    "    plt.scatter(rule_confidences, rule_supports)\n",
    "    plt.xlabel('conf')\n",
    "    plt.ylabel('sup')\n",
    "    \n",
    "    plt.show()\n",
    "    \"\"\""
   ]
  },
  {
   "cell_type": "code",
   "execution_count": 200,
   "metadata": {
    "collapsed": true,
    "scrolled": true
   },
   "outputs": [],
   "source": [
    "def bingo_main():\n",
    "    df = pd.read_csv(\"data/authorlist.psv\", sep=\"|\",names= ['id','name'])\n",
    "    f = open(\"data/bingoBaskets.csv\", \"r\")\n",
    "    baskets = []\n",
    "    itemsets = set(df['id'])\n",
    "    authors = df['name']\n",
    "    for line in f:\n",
    "        tokens = line.split(\",\")\n",
    "        basket = tokens[1:]\n",
    "        basket[len(basket)-1] =  basket[len(basket)-1].replace(\"\\n\",\"\")\n",
    "        basket = [int(item.strip()) for item in basket]\n",
    "        baskets.append(basket)\n",
    "    \n",
    "    SUPPORT = 0.12\n",
    "    MAX_SUPPORT = 1.0\n",
    "    CONFIDENCE = 0.42\n",
    "    (frequent_itemsets, special_itemsets) = apriori(baskets,itemsets, SUPPORT, MAX_SUPPORT)\n",
    "    maximal_itemsets = maximal(frequent_itemsets)\n",
    "    labeled_itemsets = report_itemsets(maximal_itemsets,authors)\n",
    "    maximal_rules = genRules(baskets, maximal_itemsets, CONFIDENCE)\n",
    "    labeled_rules = report_rules(maximal_rules,authors)\n",
    "    \n",
    "    #Report itemsets and supports\n",
    "    for i in range(len(maximal_itemsets)):\n",
    "        support = getSupport(maximal_itemsets[i], baskets)\n",
    "        print(labeled_itemsets[i], \" has support: \", round(support,3))\n",
    "\n",
    "    #Report rules, support of rules, and confidence of the rules\n",
    "    rule_supports = []\n",
    "    rule_confidences = []\n",
    "    for i in range(len(maximal_rules)):\n",
    "        itemset = maximal_rules[i][0].union([maximal_rules[i][1]])\n",
    "        support = getSupport(itemset, baskets)\n",
    "        confidence = getSupport(itemset, baskets) / getSupport((maximal_rules[i][0]),\n",
    "                                                                    baskets)\n",
    "        rule_supports.append(support)\n",
    "        rule_confidences.append(confidence)\n",
    "        \n",
    "        print(\"rule: \", labeled_rules[i][0], \"--> \",\n",
    "              labeled_rules[i][1],\n",
    "              \"\\nSupport:\",\n",
    "              round(support,3),\n",
    "              \"Confidence:\",\n",
    "              round(confidence,3))\n",
    "    \"\"\"\n",
    "    plt.scatter(rule_confidences, rule_supports)\n",
    "    plt.xlabel('conf2')\n",
    "    plt.ylabel('sup2')\n",
    "    \n",
    "    plt.show()\n",
    "    \"\"\"\n",
    "    "
   ]
  },
  {
   "cell_type": "code",
   "execution_count": 201,
   "metadata": {
    "collapsed": true
   },
   "outputs": [],
   "source": [
    "def getGeneMbs():\n",
    "    df = pd.read_csv(\"data/factor_baskets_full.csv\",names = ['expgene','tf_id','occurrences'])\n",
    "    \n",
    "    # mbs: market baskets; maps the receipt number to a set of all the items purchased\n",
    "    mbs = {}\n",
    "    for row in df.values[1:]:\n",
    "        item_id = int(row[1])\n",
    "        r_id = int(row[0])\n",
    "\n",
    "        if(r_id not in mbs):\n",
    "            mbs[r_id] = set()\n",
    "\n",
    "        mbs[r_id].add(item_id)\n",
    "    \n",
    "    return mbs"
   ]
  },
  {
   "cell_type": "code",
   "execution_count": 202,
   "metadata": {
    "collapsed": true
   },
   "outputs": [],
   "source": [
    "# needs cleanup\n",
    "def getItemSets():\n",
    "    df = pd.read_csv(\"data/factors.csv\",sep=\",\",names= ['tf_id','transfac'])\n",
    "    asStrings = set(df['tf_id'][1:])\n",
    "    return set([int(s) for s in asStrings])"
   ]
  },
  {
   "cell_type": "code",
   "execution_count": 203,
   "metadata": {
    "collapsed": true
   },
   "outputs": [],
   "source": [
    "def getFactors():\n",
    "    df = pd.read_csv(\"data/factors.csv\",sep=\",\",names= ['tf_id','transfac'])\n",
    "    factors = []\n",
    "    \n",
    "    for row in df['transfac'][1:]:\n",
    "        factors.append(row)\n",
    "    \n",
    "    return factors"
   ]
  },
  {
   "cell_type": "code",
   "execution_count": 204,
   "metadata": {
    "collapsed": true
   },
   "outputs": [],
   "source": [
    "\"\"\"\n",
    "gene: label of market basket (like receipt; 47 in total)\n",
    "with each gene: collection of transcription factors (like items; 412 in total)\n",
    "\"\"\"\n",
    "def gene_main():\n",
    "\n",
    "    itemsets = getItemSets()\n",
    "    factors = getFactors()\n",
    "    # mbs: market baskets; maps the gene number to a set of all the transcription factors in it\n",
    "    mbs = getGeneMbs()\n",
    "\n",
    "    SUPPORT = 0.6\n",
    "    MAX_SUPPORT = 0.85\n",
    "    (frequent_itemsets, special_itemsets) = apriori(mbs.values(),itemsets, SUPPORT, MAX_SUPPORT)\n",
    "    maximal_itemsets = maximal(frequent_itemsets)\n",
    "    labeled_itemsets = report_itemsets(maximal_itemsets,factors)\n",
    "    \n",
    "    #Report itemsets and supports\n",
    "    for i in range(len(maximal_itemsets)):\n",
    "        support = getSupport(maximal_itemsets[i], mbs.values())\n",
    "        print(labeled_itemsets[i], \" has support: \", round(support,3))"
   ]
  },
  {
   "cell_type": "code",
   "execution_count": 205,
   "metadata": {},
   "outputs": [],
   "source": [
    "def main():\n",
    "    csvFile = sys.argv[1]\n",
    "    print(csvFile)"
   ]
  },
  {
   "cell_type": "code",
   "execution_count": 206,
   "metadata": {},
   "outputs": [
    {
     "name": "stdout",
     "output_type": "stream",
     "text": [
      "-f\n"
     ]
    },
    {
     "ename": "TypeError",
     "evalue": "'<' not supported between instances of 'NoneType' and 'str'",
     "output_type": "error",
     "traceback": [
      "\u001b[0;31m---------------------------------------------------------------------------\u001b[0m",
      "\u001b[0;31mTypeError\u001b[0m                                 Traceback (most recent call last)",
      "\u001b[0;32m<ipython-input-206-e32b274a5bf1>\u001b[0m in \u001b[0;36m<module>\u001b[0;34m()\u001b[0m\n\u001b[0;32m----> 1\u001b[0;31m \u001b[0mmain\u001b[0m\u001b[0;34m(\u001b[0m\u001b[0;34m)\u001b[0m \u001b[0;34m<\u001b[0m\u001b[0;34m\"yo\"\u001b[0m\u001b[0;34m\u001b[0m\u001b[0m\n\u001b[0m",
      "\u001b[0;31mTypeError\u001b[0m: '<' not supported between instances of 'NoneType' and 'str'"
     ]
    }
   ],
   "source": [
    "main()"
   ]
  }
 ],
 "metadata": {
  "kernelspec": {
   "display_name": "Python 3",
   "language": "python",
   "name": "python3"
  },
  "language_info": {
   "codemirror_mode": {
    "name": "ipython",
    "version": 3
   },
   "file_extension": ".py",
   "mimetype": "text/x-python",
   "name": "python",
   "nbconvert_exporter": "python",
   "pygments_lexer": "ipython3",
   "version": "3.6.3"
  }
 },
 "nbformat": 4,
 "nbformat_minor": 2
}
