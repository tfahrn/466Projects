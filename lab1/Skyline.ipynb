{
 "cells": [
  {
   "cell_type": "code",
   "execution_count": 70,
   "metadata": {
    "collapsed": true
   },
   "outputs": [],
   "source": [
    "import pandas as pd\n",
    "from matplotlib import pyplot as plt\n",
    "\n",
    "def getReceiptMbs():\n",
    "    df = pd.read_csv(\"data/75000i.csv\",names = ['recpt_id','quantity','item'])\n",
    "    \n",
    "    # mbs: market baskets; maps the receipt number to a set of all the items purchased\n",
    "    mbs = {}\n",
    "    for row in df.values:\n",
    "        item_id = row[2]\n",
    "        r_id = row[0]\n",
    "\n",
    "        if(r_id not in mbs):\n",
    "            mbs[r_id] = set()\n",
    "\n",
    "        mbs[r_id].add(item_id)\n",
    "    \n",
    "    return mbs"
   ]
  },
  {
   "cell_type": "code",
   "execution_count": 71,
   "metadata": {
    "collapsed": true
   },
   "outputs": [],
   "source": [
    "def getItemSets():\n",
    "    df = pd.read_csv(\"data/1000i.csv\",names = ['recpt_id','quantity','item'])\n",
    "    \n",
    "    return set(df['item'])"
   ]
  },
  {
   "cell_type": "code",
   "execution_count": 72,
   "metadata": {
    "collapsed": true
   },
   "outputs": [],
   "source": [
    "# Returns support of itemset\n",
    "# Checks how many marketbaskets contain the itemset\n",
    "def getSupport(itemset,mbs):\n",
    "    count = 0\n",
    "    for mb in mbs:\n",
    "        if (itemset.issubset(mb)):\n",
    "            count+=1\n",
    "    return count/len(mbs)"
   ]
  },
  {
   "cell_type": "code",
   "execution_count": 84,
   "metadata": {
    "collapsed": true
   },
   "outputs": [],
   "source": [
    "\"\"\"\n",
    "mbs: marketbaskets; map of receipt number to market basket\n",
    "itemset: set of all items\n",
    "minSup: minimum support number\n",
    "\n",
    "return:\n",
    "\"\"\"\n",
    "def apriori(mbs, itemset, minSup):\n",
    "    F = [] # list of F1, F2, ..., Fn\n",
    "    F1 = [] # list of all item sets of length 1 where the support of the item set > minSup\n",
    "    \n",
    "    for item in itemset:            \n",
    "        itemSup = getSupport(set([item]), mbs)\n",
    "        if(itemSup >= minSup):\n",
    "             F1.append(set([item]))\n",
    "                \n",
    "    F.append(F1)\n",
    "    \n",
    "    k = 1 #index to iterate F, eg. F[0] == F1\n",
    "    while(len(F[k-1]) > 0):\n",
    "        Ck = candidateGen(F[k-1], k-1) # candidate frequent itemsets of length k+1\n",
    "        Fk = []\n",
    "        \n",
    "        for candidate in Ck:\n",
    "            count = 0\n",
    "            for mb in mbs:\n",
    "                if(candidate.issubset(mb)):\n",
    "                    count += 1\n",
    "\n",
    "            if(count/len(mbs) >= minSup):\n",
    "                Fk.append(candidate)\n",
    "        \n",
    "        F.append(Fk)   \n",
    "        k += 1\n",
    "                    \n",
    "    return F"
   ]
  },
  {
   "cell_type": "code",
   "execution_count": 74,
   "metadata": {
    "collapsed": true
   },
   "outputs": [],
   "source": [
    "# Passing in arrray of itemsets of length k\n",
    "# the size/length of the item sets K\n",
    "# return: set of candidate frequent item sets of length k+1\n",
    "def candidateGen(Fk, k):\n",
    "    candidates = set()\n",
    "    finalCandidates = set()\n",
    "    \n",
    "    #generate candidates of length k+1\n",
    "    for itemset1 in Fk:\n",
    "        for itemset2 in Fk:\n",
    "            # check len(set) == k?\n",
    "            union = itemset1.union(itemset2)\n",
    "            if( (itemset1 is not itemset2) and (len(union) == len(itemset1) + 1) ):\n",
    "                candidates.add(frozenset(union))\n",
    "    \n",
    "    #prune candidates\n",
    "    for cand in candidates:\n",
    "        isValid = True\n",
    "        for item in cand:\n",
    "            prunedCand = set([c for c in cand if c != item])\n",
    "            if (prunedCand not in Fk):\n",
    "                isValid = False\n",
    "                continue;\n",
    "        if (isValid):\n",
    "            finalCandidates.add(cand)\n",
    "            \n",
    "    return finalCandidates "
   ]
  },
  {
   "cell_type": "code",
   "execution_count": 75,
   "metadata": {
    "collapsed": true
   },
   "outputs": [],
   "source": [
    "def maximal(itemsets):\n",
    "    all_itemsets = []\n",
    "    maximal = []\n",
    "    \n",
    "    for itemset_list in itemsets:\n",
    "        for itemset in itemset_list:\n",
    "            all_itemsets.append(set(itemset))\n",
    "    \n",
    "    for itemset1 in all_itemsets:\n",
    "        isMaximal = True\n",
    "        for itemset2 in all_itemsets:\n",
    "            if itemset1 is not itemset2 and itemset1.issubset(itemset2):\n",
    "                isMaximal = False\n",
    "        if isMaximal:\n",
    "            maximal.append(itemset1)\n",
    "    \n",
    "    return maximal"
   ]
  },
  {
   "cell_type": "code",
   "execution_count": 76,
   "metadata": {
    "collapsed": true
   },
   "outputs": [],
   "source": [
    "def genRules(mbs, F, minConf):\n",
    "    H1 = []\n",
    "    \n",
    "    for itemset in F:\n",
    "        if len(itemset) < 2:\n",
    "            continue;\n",
    "        \n",
    "        for item in itemset:\n",
    "            conf = getSupport(itemset, mbs.values()) / getSupport(itemset - set([item]), mbs.values())\n",
    "            if conf >= minConf:\n",
    "                H1.append([itemset - set([item]), item])\n",
    "        \n",
    "    return H1   "
   ]
  },
  {
   "cell_type": "code",
   "execution_count": 77,
   "metadata": {
    "collapsed": false
   },
   "outputs": [],
   "source": [
    "def get_goods():\n",
    "    goods = pd.read_csv(\"data/goods.csv\")\n",
    "    goods = goods[['Flavor','Food']]\n",
    "    good_labels = []\n",
    "    for row in goods.values:\n",
    "        foodItem = row[0].replace(\"'\",\"\") + \" \" + row[1].replace(\"'\",\"\")\n",
    "        good_labels.append(foodItem)\n",
    "    return good_labels"
   ]
  },
  {
   "cell_type": "code",
   "execution_count": 78,
   "metadata": {
    "collapsed": true
   },
   "outputs": [],
   "source": [
    "def report_rules(maxRules):\n",
    "    translated = []\n",
    "    goods = get_goods()\n",
    "    for rule in maxRules:\n",
    "        left = list(rule[0])\n",
    "        new_left = []\n",
    "        for item in left:\n",
    "            new_left.append(goods[item])\n",
    "        new_right = goods[rule[1]]\n",
    "        translated.append([new_left,new_right])\n",
    "    return translated"
   ]
  },
  {
   "cell_type": "code",
   "execution_count": 79,
   "metadata": {
    "collapsed": true
   },
   "outputs": [],
   "source": [
    "def report_itemsets(maxItemsets):\n",
    "    goods = get_goods()\n",
    "    translated = []\n",
    "    for itemset in maxItemsets:\n",
    "        new_itemset = []\n",
    "        for item in list(itemset):\n",
    "            new_itemset.append(goods[item])\n",
    "        translated.append(new_itemset)\n",
    "    return translated\n",
    "            "
   ]
  },
  {
   "cell_type": "code",
   "execution_count": 89,
   "metadata": {
    "collapsed": false
   },
   "outputs": [],
   "source": [
    "def bakery_main():\n",
    "    mbs = getReceiptMbs()\n",
    "    itemsets = getItemSets()\n",
    "    frequent_itemsets = apriori(mbs.values(),itemsets, .02)\n",
    "    maximal_itemsets = maximal(frequent_itemsets)\n",
    "    labeled_itemsets = report_itemsets(maximal_itemsets)\n",
    "    #Optimal confidence and support will make 10-50 maximal rules\n",
    "    maximal_rules = genRules(mbs, maximal_itemsets, .75)\n",
    "    labeled_rules = report_rules(maximal_rules)\n",
    "\n",
    "    rule_supports = []\n",
    "    rule_confidences = []\n",
    "\n",
    "    #Report itemsets and supports\n",
    "    for i in range(len(maximal_itemsets)):\n",
    "        support = getSupport(maximal_itemsets[i], mbs.values())\n",
    "        print(labeled_itemsets[i], \" has support: \", round(support,3))\n",
    "\n",
    "    #Report rules, support of rules, and confidence of the rules\n",
    "    rule_supports = []\n",
    "    rule_confidences = []\n",
    "    for i in range(len(maximal_rules)):\n",
    "        itemset = maximal_rules[i][0].union([maximal_rules[i][1]])\n",
    "        support = getSupport(itemset, mbs.values())\n",
    "        confidence = getSupport(itemset, mbs.values()) / getSupport((maximal_rules[i][0]),\n",
    "                                                                    mbs.values())\n",
    "        rule_supports.append(support)\n",
    "        rule_confidences.append(confidence)\n",
    "\n",
    "        print(\"rule: \", labeled_rules[i][0], \"--> \",\n",
    "              labeled_rules[i][1],\n",
    "              \"\\nSupport:\",\n",
    "              round(support,3),\n",
    "              \"Confidence:\",\n",
    "              round(confidence,3))"
   ]
  },
  {
   "cell_type": "code",
   "execution_count": 90,
   "metadata": {
    "collapsed": false
   },
   "outputs": [
    {
     "name": "stdout",
     "output_type": "stream",
     "text": [
      "['Chocolate Eclair']  has support:  0.042\n",
      "['Vanilla Eclair']  has support:  0.043\n",
      "['Almond Tart']  has support:  0.042\n",
      "['Apricot Tart']  has support:  0.042\n",
      "['Pecan Tart']  has support:  0.043\n",
      "['Ganache Cookie']  has support:  0.043\n",
      "['Chocolate Meringue']  has support:  0.042\n",
      "['Vanilla Meringue']  has support:  0.042\n",
      "['Almond Croissant']  has support:  0.043\n",
      "['Chocolate Croissant']  has support:  0.043\n",
      "['Almond Bear Claw']  has support:  0.042\n",
      "['Blueberry Danish']  has support:  0.044\n",
      "['Truffle Cake', 'Gongolais Cookie']  has support:  0.044\n",
      "['Cheese Croissant', 'Orange Juice']  has support:  0.043\n",
      "['Marzipan Cookie', 'Tuile Cookie']  has support:  0.051\n",
      "['Napoleon Cake', 'Strawberry Cake']  has support:  0.043\n",
      "['Bottled Water', 'Berry Tart']  has support:  0.038\n",
      "['Lemon Cake', 'Lemon Tart']  has support:  0.037\n",
      "['Blueberry Tart', 'Apricot Croissant', 'Hot Coffee']  has support:  0.033\n",
      "['Single Espresso', 'Coffee Eclair', 'Blackberry Tart']  has support:  0.027\n",
      "['Chocolate Cake', 'Casino Cake', 'Chocolate Coffee']  has support:  0.033\n",
      "['Chocolate Tart', 'Walnut Cookie', 'Vanilla Frappuccino']  has support:  0.027\n",
      "['Apricot Danish', 'Cherry Tart', 'Opera Cake']  has support:  0.041\n",
      "['Cherry Soda', 'Apple Danish', 'Apple Tart', 'Apple Croissant']  has support:  0.021\n",
      "['Hot Coffee', 'Apple Pie', 'Almond Twist', 'Coffee Eclair']  has support:  0.028\n",
      "['Lemon Lemonade', 'Raspberry Lemonade', 'Green Tea', 'Lemon Cookie', 'Raspberry Cookie']  has support:  0.021\n",
      "rule:  ['Apricot Croissant', 'Hot Coffee'] -->  Blueberry Tart \n",
      "Support: 0.033 Confidence: 0.928\n",
      "rule:  ['Blueberry Tart', 'Hot Coffee'] -->  Apricot Croissant \n",
      "Support: 0.033 Confidence: 0.937\n",
      "rule:  ['Blueberry Tart', 'Apricot Croissant'] -->  Hot Coffee \n",
      "Support: 0.033 Confidence: 0.755\n",
      "rule:  ['Single Espresso', 'Blackberry Tart'] -->  Coffee Eclair \n",
      "Support: 0.027 Confidence: 0.923\n",
      "rule:  ['Single Espresso', 'Coffee Eclair'] -->  Blackberry Tart \n",
      "Support: 0.027 Confidence: 0.922\n",
      "rule:  ['Casino Cake', 'Chocolate Coffee'] -->  Chocolate Cake \n",
      "Support: 0.033 Confidence: 0.947\n",
      "rule:  ['Chocolate Cake', 'Chocolate Coffee'] -->  Casino Cake \n",
      "Support: 0.033 Confidence: 0.758\n",
      "rule:  ['Chocolate Cake', 'Casino Cake'] -->  Chocolate Coffee \n",
      "Support: 0.033 Confidence: 0.94\n",
      "rule:  ['Walnut Cookie', 'Vanilla Frappuccino'] -->  Chocolate Tart \n",
      "Support: 0.027 Confidence: 0.94\n",
      "rule:  ['Chocolate Tart', 'Walnut Cookie'] -->  Vanilla Frappuccino \n",
      "Support: 0.027 Confidence: 0.937\n",
      "rule:  ['Cherry Tart', 'Opera Cake'] -->  Apricot Danish \n",
      "Support: 0.041 Confidence: 0.948\n",
      "rule:  ['Opera Cake', 'Apricot Danish'] -->  Cherry Tart \n",
      "Support: 0.041 Confidence: 0.955\n",
      "rule:  ['Cherry Tart', 'Apricot Danish'] -->  Opera Cake \n",
      "Support: 0.041 Confidence: 0.774\n",
      "rule:  ['Apple Danish', 'Apple Tart', 'Apple Croissant'] -->  Cherry Soda \n",
      "Support: 0.021 Confidence: 0.807\n",
      "rule:  ['Cherry Soda', 'Apple Tart', 'Apple Croissant'] -->  Apple Danish \n",
      "Support: 0.021 Confidence: 0.991\n",
      "rule:  ['Cherry Soda', 'Apple Danish', 'Apple Croissant'] -->  Apple Tart \n",
      "Support: 0.021 Confidence: 0.99\n",
      "rule:  ['Cherry Soda', 'Apple Danish', 'Apple Tart'] -->  Apple Croissant \n",
      "Support: 0.021 Confidence: 0.993\n",
      "rule:  ['Apple Pie', 'Almond Twist', 'Coffee Eclair'] -->  Hot Coffee \n",
      "Support: 0.028 Confidence: 0.814\n",
      "rule:  ['Almond Twist', 'Hot Coffee', 'Coffee Eclair'] -->  Apple Pie \n",
      "Support: 0.028 Confidence: 0.993\n",
      "rule:  ['Apple Pie', 'Hot Coffee', 'Coffee Eclair'] -->  Almond Twist \n",
      "Support: 0.028 Confidence: 0.994\n",
      "rule:  ['Almond Twist', 'Apple Pie', 'Hot Coffee'] -->  Coffee Eclair \n",
      "Support: 0.028 Confidence: 0.995\n",
      "rule:  ['Lemon Cookie', 'Raspberry Lemonade', 'Green Tea', 'Raspberry Cookie'] -->  Lemon Lemonade \n",
      "Support: 0.021 Confidence: 1.0\n",
      "rule:  ['Lemon Lemonade', 'Lemon Cookie', 'Green Tea', 'Raspberry Cookie'] -->  Raspberry Lemonade \n",
      "Support: 0.021 Confidence: 1.0\n",
      "rule:  ['Lemon Lemonade', 'Raspberry Lemonade', 'Lemon Cookie', 'Raspberry Cookie'] -->  Green Tea \n",
      "Support: 0.021 Confidence: 0.811\n",
      "rule:  ['Lemon Lemonade', 'Raspberry Lemonade', 'Green Tea', 'Raspberry Cookie'] -->  Lemon Cookie \n",
      "Support: 0.021 Confidence: 0.999\n",
      "rule:  ['Lemon Lemonade', 'Raspberry Lemonade', 'Green Tea', 'Lemon Cookie'] -->  Raspberry Cookie \n",
      "Support: 0.021 Confidence: 1.0\n"
     ]
    }
   ],
   "source": [
    "bakery_main()"
   ]
  },
  {
   "cell_type": "code",
   "execution_count": 91,
   "metadata": {
    "collapsed": false,
    "scrolled": true
   },
   "outputs": [],
   "source": [
    "authors = pd.read_csv(\"data/authorList.psv\", sep=\"|\",names= ['id','name'])\n",
    "f = open(\"data/bingoBaskets.csv\", \"r\")\n",
    "baskets = []\n",
    "for line in f:\n",
    "    tokens = line.split(\",\")\n",
    "    basket= tokens[1:]\n",
    "    basket[len(basket)-1] =  basket[len(basket)-1].replace(\"\\n\",\"\")\n",
    "    basket = [int(item.strip()) for item in basket]\n",
    "    baskets.append(basket)"
   ]
  },
  {
   "cell_type": "code",
   "execution_count": 92,
   "metadata": {
    "collapsed": false
   },
   "outputs": [],
   "source": [
    "itemsets = set(authors['id'])"
   ]
  },
  {
   "cell_type": "code",
   "execution_count": 95,
   "metadata": {
    "collapsed": false
   },
   "outputs": [],
   "source": [
    "frequent_itemsets = apriori(baskets,itemsets, .20)\n",
    "#maximal_itemsets = maximal(frequent_itemsets)\n",
    "#labeled_itemsets = report_itemsets(maximal_itemsets)"
   ]
  },
  {
   "cell_type": "code",
   "execution_count": 96,
   "metadata": {
    "collapsed": false
   },
   "outputs": [
    {
     "data": {
      "text/plain": [
       "[[{2},\n",
       "  {13},\n",
       "  {48},\n",
       "  {88},\n",
       "  {91},\n",
       "  {166},\n",
       "  {240},\n",
       "  {368},\n",
       "  {445},\n",
       "  {576},\n",
       "  {644},\n",
       "  {743},\n",
       "  {747},\n",
       "  {880},\n",
       "  {960},\n",
       "  {1029},\n",
       "  {1085},\n",
       "  {1109},\n",
       "  {1217},\n",
       "  {1279},\n",
       "  {1283}],\n",
       " [frozenset({91, 1109})],\n",
       " []]"
      ]
     },
     "execution_count": 96,
     "metadata": {},
     "output_type": "execute_result"
    }
   ],
   "source": [
    "frequent_itemsets"
   ]
  }
 ],
 "metadata": {
  "kernelspec": {
   "display_name": "Python [Anaconda3]",
   "language": "python",
   "name": "Python [Anaconda3]"
  },
  "language_info": {
   "codemirror_mode": {
    "name": "ipython",
    "version": 3
   },
   "file_extension": ".py",
   "mimetype": "text/x-python",
   "name": "python",
   "nbconvert_exporter": "python",
   "pygments_lexer": "ipython3",
   "version": "3.5.2"
  }
 },
 "nbformat": 4,
 "nbformat_minor": 2
}
