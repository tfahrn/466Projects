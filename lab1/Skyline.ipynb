{
 "cells": [
  {
   "cell_type": "code",
   "execution_count": 7,
   "metadata": {},
   "outputs": [],
   "source": [
    "import pandas as pd\n",
    "\n",
    "def getReceiptMbs():\n",
    "    df = pd.read_csv(\"data/1000i.csv\",names = ['recpt_id','quantity','item'])\n",
    "    \n",
    "    #mbs: market baskets; maps the receipt number to a list of all the items purchased\n",
    "    mbs = {}\n",
    "    for row in df.values:\n",
    "        item_id = row[2]\n",
    "        r_id = row[0]\n",
    "\n",
    "        if(r_id not in mbs):\n",
    "            mbs[r_id] = []\n",
    "\n",
    "        mbs[r_id].append(item_id)\n",
    "    \n",
    "    return mbs"
   ]
  },
  {
   "cell_type": "code",
   "execution_count": null,
   "metadata": {
    "collapsed": true
   },
   "outputs": [],
   "source": [
    "def apriori(mbs,itemsets,minSupp):\n",
    "    #Fx all items sets of length x where the support of an item set is greater\n",
    "    #than the minimum support\n",
    "    #all the f arrays\n",
    "    fs= []\n",
    "    f1 = []\n",
    "    for iset in itemsets:\n",
    "        if(type(iset) is not list):\n",
    "            iset = [iset]\n",
    "               \n",
    "        supp = getSupport(iset,mbs)\n",
    "        if(supp >= minSupp):\n",
    "             f1.append(iset)     \n",
    "    fs.append(f1)\n",
    "    k = 1\n",
    "    \n",
    "    while(len(fs[k-1])>0):\n",
    "        #The candidates for itemsets\n",
    "        pcands= candGen(fs[k-1],k-1)\n",
    "        #Counts the number of market baskets that contain the potential candidate\n",
    "        counts_k = []\n",
    "        #Initializing all counts to 0\n",
    "        for c in pcands:\n",
    "            counts_k.append(0)\n",
    "        \n",
    "        cand_idx = 0\n",
    "        for mb in mbs:\n",
    "            for c in pcands:\n",
    "                if(isSubset(c,mb)):\n",
    "                    counts_k[cand_idx]+=1\n",
    "                cand_idx+=1    \n",
    "            cand_idx = 0\n",
    "        \n",
    "        fk = []\n",
    "        \n",
    "        while(cand_idx < len(pcands)):\n",
    "            if(counts_k[cand_idx]/len(mbs) >= minSupp):\n",
    "                fk.append(pcands[cand_idx])\n",
    "            cand_idx += 1\n",
    "        \n",
    "        fs.append(fk)   \n",
    "        k += 1\n",
    "                    \n",
    "    \n",
    "    return fs"
   ]
  }
 ],
 "metadata": {
  "kernelspec": {
   "display_name": "Python 3",
   "language": "python",
   "name": "python3"
  },
  "language_info": {
   "codemirror_mode": {
    "name": "ipython",
    "version": 3
   },
   "file_extension": ".py",
   "mimetype": "text/x-python",
   "name": "python",
   "nbconvert_exporter": "python",
   "pygments_lexer": "ipython3",
   "version": "3.6.3"
  }
 },
 "nbformat": 4,
 "nbformat_minor": 2
}
