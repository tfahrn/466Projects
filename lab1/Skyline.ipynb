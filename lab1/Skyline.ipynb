{
 "cells": [
  {
   "cell_type": "code",
   "execution_count": 65,
   "metadata": {
    "collapsed": true
   },
   "outputs": [],
   "source": [
    "import pandas as pd\n",
    "\n",
    "def getReceiptMbs():\n",
    "    df = pd.read_csv(\"data/1000i.csv\",names = ['recpt_id','quantity','item'])\n",
    "    \n",
    "    # mbs: market baskets; maps the receipt number to a set of all the items purchased\n",
    "    mbs = {}\n",
    "    for row in df.values:\n",
    "        item_id = row[2]\n",
    "        r_id = row[0]\n",
    "\n",
    "        if(r_id not in mbs):\n",
    "            mbs[r_id] = set()\n",
    "\n",
    "        mbs[r_id].add(item_id)\n",
    "    \n",
    "    return mbs"
   ]
  },
  {
   "cell_type": "code",
   "execution_count": 66,
   "metadata": {
    "collapsed": true
   },
   "outputs": [],
   "source": [
    "def getItemSets():\n",
    "    df = pd.read_csv(\"data/1000i.csv\",names = ['recpt_id','quantity','item'])\n",
    "    \n",
    "    return set(df['item'])"
   ]
  },
  {
   "cell_type": "code",
   "execution_count": 67,
   "metadata": {
    "collapsed": true
   },
   "outputs": [],
   "source": [
    "# Returns support of itemset\n",
    "# Checks how many marketbaskets contain the itemset\n",
    "def getSupport(itemset,mbs):\n",
    "    count = 0\n",
    "    for mb in mbs:\n",
    "        if (itemset.issubset(mb)):\n",
    "            count+=1\n",
    "    return count/len(mbs)"
   ]
  },
  {
   "cell_type": "code",
   "execution_count": 68,
   "metadata": {
    "collapsed": true
   },
   "outputs": [],
   "source": [
    "\"\"\"\n",
    "mbs: marketbaskets; map of receipt number to market basket\n",
    "itemset: set of all items\n",
    "minSup: minimum support number\n",
    "\n",
    "return:\n",
    "\"\"\"\n",
    "def apriori(mbs, itemset, minSup):\n",
    "    F = [] # list of F1, F2, ..., Fn\n",
    "    F1 = [] # list of all item sets of length 1 where the support of the item set > minSup\n",
    "    \n",
    "    for item in itemset:            \n",
    "        itemSup = getSupport(set([item]), mbs.values())\n",
    "        if(itemSup >= minSup):\n",
    "             F1.append(set([item]))\n",
    "                \n",
    "    F.append(F1)\n",
    "    \n",
    "    k = 1 #index to iterate F, eg. F[0] == F1\n",
    "    while(len(F[k-1]) > 0):\n",
    "        Ck = candidateGen(F[k-1], k-1) # candidate frequent itemsets of length k+1\n",
    "        Fk = []\n",
    "        \n",
    "        for candidate in Ck:\n",
    "            count = 0\n",
    "            for mb in mbs.values():\n",
    "                if(candidate.issubset(mb)):\n",
    "                    count += 1\n",
    "\n",
    "            if(count/len(mbs) >= minSup):\n",
    "                Fk.append(candidate)\n",
    "        \n",
    "        F.append(Fk)   \n",
    "        k += 1\n",
    "                    \n",
    "    return F"
   ]
  },
  {
   "cell_type": "code",
   "execution_count": 69,
   "metadata": {
    "collapsed": true
   },
   "outputs": [],
   "source": [
    "# Passing in arrray of itemsets of length k\n",
    "# the size/length of the item sets K\n",
    "# return: set of candidate frequent item sets of length k+1\n",
    "def candidateGen(Fk, k):\n",
    "    candidates = set()\n",
    "    finalCandidates = set()\n",
    "    \n",
    "    #generate candidates of length k+1\n",
    "    for itemset1 in Fk:\n",
    "        for itemset2 in Fk:\n",
    "            # check len(set) == k?\n",
    "            union = itemset1.union(itemset2)\n",
    "            if( (itemset1 is not itemset2) and (len(union) == len(itemset1) + 1) ):\n",
    "                candidates.add(frozenset(union))\n",
    "    \n",
    "    #prune candidates\n",
    "    for cand in candidates:\n",
    "        isValid = True\n",
    "        for item in cand:\n",
    "            prunedCand = set([c for c in cand if c != item])\n",
    "            if (prunedCand not in Fk):\n",
    "                isValid = False\n",
    "                continue;\n",
    "        if (isValid):\n",
    "            finalCandidates.add(cand)\n",
    "            \n",
    "    return finalCandidates "
   ]
  },
  {
   "cell_type": "code",
   "execution_count": 70,
   "metadata": {
    "collapsed": true
   },
   "outputs": [],
   "source": [
    "def main():\n",
    "    mbs = getReceiptMbs()\n",
    "    itemsets = getItemSets()\n",
    "    print(apriori(mbs,itemsets,.03))"
   ]
  },
  {
   "cell_type": "code",
   "execution_count": 71,
   "metadata": {},
   "outputs": [
    {
     "name": "stdout",
     "output_type": "stream",
     "text": [
      "[[{0}, {1}, {2}, {3}, {4}, {5}, {6}, {7}, {8}, {9}, {10}, {11}, {12}, {13}, {14}, {15}, {16}, {17}, {18}, {19}, {20}, {21}, {22}, {23}, {24}, {25}, {26}, {27}, {28}, {29}, {30}, {31}, {32}, {33}, {34}, {35}, {36}, {37}, {39}, {40}, {41}, {42}, {43}, {44}, {45}, {46}, {47}, {48}, {49}], [frozenset({5, 22}), frozenset({48, 31}), frozenset({33, 42}), frozenset({36, 31}), frozenset({16, 45}), frozenset({11, 7}), frozenset({27, 28}), frozenset({9, 4}), frozenset({2, 46}), frozenset({12, 31}), frozenset({37, 7}), frozenset({44, 14}), frozenset({24, 23}), frozenset({1, 19}), frozenset({0, 2}), frozenset({18, 3}), frozenset({48, 12}), frozenset({18, 35}), frozenset({32, 45}), frozenset({40, 23}), frozenset({12, 36}), frozenset({24, 41}), frozenset({16, 32}), frozenset({35, 3}), frozenset({48, 36}), frozenset({24, 40}), frozenset({0, 46}), frozenset({15, 7})], [frozenset({16, 32, 45}), frozenset({48, 36, 31}), frozenset({35, 18, 3}), frozenset({48, 12, 36}), frozenset({36, 12, 31}), frozenset({0, 2, 46}), frozenset({48, 12, 31})], [frozenset({48, 36, 12, 31})], []]\n"
     ]
    }
   ],
   "source": [
    "main()"
   ]
  }
 ],
 "metadata": {
  "kernelspec": {
   "display_name": "Python 3",
   "language": "python",
   "name": "python3"
  },
  "language_info": {
   "codemirror_mode": {
    "name": "ipython",
    "version": 3
   },
   "file_extension": ".py",
   "mimetype": "text/x-python",
   "name": "python",
   "nbconvert_exporter": "python",
   "pygments_lexer": "ipython3",
   "version": "3.6.3"
  }
 },
 "nbformat": 4,
 "nbformat_minor": 2
}
