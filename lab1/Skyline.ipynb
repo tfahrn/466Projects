{
 "cells": [
  {
   "cell_type": "code",
   "execution_count": 94,
   "metadata": {
    "collapsed": true
   },
   "outputs": [],
   "source": [
    "import pandas as pd\n",
    "\n",
    "def getReceiptMbs():\n",
    "    df = pd.read_csv(\"data/1000i.csv\",names = ['recpt_id','quantity','item'])\n",
    "    \n",
    "    # mbs: market baskets; maps the receipt number to a set of all the items purchased\n",
    "    mbs = {}\n",
    "    for row in df.values:\n",
    "        item_id = row[2]\n",
    "        r_id = row[0]\n",
    "\n",
    "        if(r_id not in mbs):\n",
    "            mbs[r_id] = set()\n",
    "\n",
    "        mbs[r_id].add(item_id)\n",
    "    \n",
    "    return mbs"
   ]
  },
  {
   "cell_type": "code",
   "execution_count": 95,
   "metadata": {
    "collapsed": true
   },
   "outputs": [],
   "source": [
    "def getItemSets():\n",
    "    df = pd.read_csv(\"data/1000i.csv\",names = ['recpt_id','quantity','item'])\n",
    "    \n",
    "    return set(df['item'])"
   ]
  },
  {
   "cell_type": "code",
   "execution_count": 96,
   "metadata": {
    "collapsed": true
   },
   "outputs": [],
   "source": [
    "# Returns support of itemset\n",
    "# Checks how many marketbaskets contain the itemset\n",
    "def getSupport(itemset,mbs):\n",
    "    count = 0\n",
    "    for mb in mbs:\n",
    "        if (itemset.issubset(mb)):\n",
    "            count+=1\n",
    "    return count/len(mbs)"
   ]
  },
  {
   "cell_type": "code",
   "execution_count": 97,
   "metadata": {
    "collapsed": true
   },
   "outputs": [],
   "source": [
    "\"\"\"\n",
    "mbs: marketbaskets; map of receipt number to market basket\n",
    "itemset: set of all items\n",
    "minSup: minimum support number\n",
    "\n",
    "return:\n",
    "\"\"\"\n",
    "def apriori(mbs, itemset, minSup):\n",
    "    F = [] # list of F1, F2, ..., Fn\n",
    "    F1 = [] # list of all item sets of length 1 where the support of the item set > minSup\n",
    "    \n",
    "    for item in itemset:            \n",
    "        itemSup = getSupport(set([item]), mbs.values())\n",
    "        if(itemSup >= minSup):\n",
    "             F1.append(set([item]))\n",
    "                \n",
    "    F.append(F1)\n",
    "    \n",
    "    k = 1 #index to iterate F, eg. F[0] == F1\n",
    "    while(len(F[k-1]) > 0):\n",
    "        Ck = candidateGen(F[k-1], k-1) # candidate frequent itemsets of length k+1\n",
    "        Fk = []\n",
    "        \n",
    "        for candidate in Ck:\n",
    "            count = 0\n",
    "            for mb in mbs.values():\n",
    "                if(candidate.issubset(mb)):\n",
    "                    count += 1\n",
    "\n",
    "            if(count/len(mbs) >= minSup):\n",
    "                Fk.append(candidate)\n",
    "        \n",
    "        F.append(Fk)   \n",
    "        k += 1\n",
    "                    \n",
    "    return F"
   ]
  },
  {
   "cell_type": "code",
   "execution_count": 98,
   "metadata": {
    "collapsed": true
   },
   "outputs": [],
   "source": [
    "# Passing in arrray of itemsets of length k\n",
    "# the size/length of the item sets K\n",
    "# return: set of candidate frequent item sets of length k+1\n",
    "def candidateGen(Fk, k):\n",
    "    candidates = set()\n",
    "    finalCandidates = set()\n",
    "    \n",
    "    #generate candidates of length k+1\n",
    "    for itemset1 in Fk:\n",
    "        for itemset2 in Fk:\n",
    "            # check len(set) == k?\n",
    "            union = itemset1.union(itemset2)\n",
    "            if( (itemset1 is not itemset2) and (len(union) == len(itemset1) + 1) ):\n",
    "                candidates.add(frozenset(union))\n",
    "    \n",
    "    #prune candidates\n",
    "    for cand in candidates:\n",
    "        isValid = True\n",
    "        for item in cand:\n",
    "            prunedCand = set([c for c in cand if c != item])\n",
    "            if (prunedCand not in Fk):\n",
    "                isValid = False\n",
    "                continue;\n",
    "        if (isValid):\n",
    "            finalCandidates.add(cand)\n",
    "            \n",
    "    return finalCandidates "
   ]
  },
  {
   "cell_type": "code",
   "execution_count": 99,
   "metadata": {},
   "outputs": [],
   "source": [
    "def maximal(itemsets):\n",
    "    all_itemsets = []\n",
    "    maximal = []\n",
    "    \n",
    "    for itemset_list in itemsets:\n",
    "        for itemset in itemset_list:\n",
    "            all_itemsets.append(set(itemset))\n",
    "    \n",
    "    for itemset1 in all_itemsets:\n",
    "        isMaximal = True\n",
    "        for itemset2 in all_itemsets:\n",
    "            if itemset1 is not itemset2 and itemset1.issubset(itemset2):\n",
    "                isMaximal = False\n",
    "        if isMaximal:\n",
    "            maximal.append(itemset1)\n",
    "        \n",
    "                \n",
    "    print(\"maximal: \", maximal)\n",
    "    \n",
    "    return maximal"
   ]
  },
  {
   "cell_type": "code",
   "execution_count": 100,
   "metadata": {
    "collapsed": true
   },
   "outputs": [],
   "source": [
    "def main():\n",
    "    mbs = getReceiptMbs()\n",
    "    itemsets = getItemSets()\n",
    "    frequent_itemsets = apriori(mbs,itemsets,.03)\n",
    "    maximal_itemsets = maximal(frequent_itemsets)"
   ]
  },
  {
   "cell_type": "code",
   "execution_count": 101,
   "metadata": {},
   "outputs": [
    {
     "name": "stdout",
     "output_type": "stream",
     "text": [
      "maximal:  [{6}, {8}, {10}, {13}, {17}, {20}, {21}, {25}, {26}, {29}, {30}, {34}, {39}, {43}, {47}, {49}, {5, 22}, {33, 42}, {11, 7}, {27, 28}, {9, 4}, {37, 7}, {44, 14}, {24, 23}, {1, 19}, {40, 23}, {24, 41}, {24, 40}, {15, 7}, {16, 32, 45}, {35, 18, 3}, {0, 2, 46}, {48, 36, 12, 31}]\n"
     ]
    }
   ],
   "source": [
    "main()"
   ]
  }
 ],
 "metadata": {
  "kernelspec": {
   "display_name": "Python 3",
   "language": "python",
   "name": "python3"
  },
  "language_info": {
   "codemirror_mode": {
    "name": "ipython",
    "version": 3
   },
   "file_extension": ".py",
   "mimetype": "text/x-python",
   "name": "python",
   "nbconvert_exporter": "python",
   "pygments_lexer": "ipython3",
   "version": "3.6.3"
  }
 },
 "nbformat": 4,
 "nbformat_minor": 2
}
