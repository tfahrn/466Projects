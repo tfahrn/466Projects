{
 "cells": [
  {
   "cell_type": "code",
   "execution_count": 33,
   "metadata": {
    "collapsed": true
   },
   "outputs": [],
   "source": [
    "import pandas as pd\n",
    "import numpy as np\n",
    "import math"
   ]
  },
  {
   "cell_type": "code",
   "execution_count": 34,
   "metadata": {
    "collapsed": false
   },
   "outputs": [],
   "source": [
    "def setup():\n",
    "    y_vars = {}\n",
    "    df = pd.read_csv(\"data/tree03-20-words.csv\",skiprows=[1,2])\n",
    "    df.drop(\"Id\",inplace = True,axis = 1)\n",
    "    for col in df.columns:\n",
    "        y_vars[col] = list(set(df[col]))\n",
    "    y_vars\n",
    "    return[df,y_vars]"
   ]
  },
  {
   "cell_type": "code",
   "execution_count": 186,
   "metadata": {
    "collapsed": false
   },
   "outputs": [],
   "source": [
    "#Assumes we have a subset that has already been split on an attribute\n",
    "#pass in a series object\n",
    "\n",
    "#Writing generic solution so we cant assume column names\n",
    "\n",
    "def entropy_d(d):\n",
    "    freqs = d.value_counts().values\n",
    "    tot_n = np.sum(freqs)\n",
    "    entropy = 0 \n",
    "    #Sums up all of the entropys for each possible value for a given\n",
    "    #attribute Ai\n",
    "    for f in freqs:\n",
    "        entropy += -(f/tot_n)*math.log((f/tot_n),2)\n",
    "    return entropy\n",
    "\n",
    "#D = the original data\n",
    "#Di = data subset after the partition/split\n",
    "def gain(split_data,a_name,r_list):\n",
    "    return entropy_d(r_list) - entropy_a(split_data,a_name)\n",
    "def gain_ratio(df, a_name, resp):   \n",
    "    split_data = df[[a_name, resp]]\n",
    "    #pd.pivot_table(temp, index = \"Education\",columns = 'Vote')\n",
    "    split_data = split_data.groupby([a_name, resp]).size().to_frame()\n",
    "    split_data.reset_index(inplace=True)\n",
    "    split_data.rename(columns = {0:\"count\"},inplace = True)\n",
    "    \n",
    "    edges = list(set(split_data[a_name]))\n",
    "    a_sum = 0\n",
    "    for edge in edges:\n",
    "        edge_df = split_data[split_data[a_name] == edge]\n",
    "        prop = np.sum(edge_df['count'])/np.sum(split_data['count'])\n",
    "        a_sum += -prop * math.log(prop,2)\n",
    "    return gain(split_data,a_name,df[resp])/a_sum\n",
    "\n",
    "def entropy_a(split_data, a_name):\n",
    "    edges = list(set(split_data[a_name]))\n",
    "    a_sum = 0\n",
    "    for edge in edges:\n",
    "        edge_df = split_data[split_data[a_name] == edge]\n",
    "        prop = np.sum(edge_df['count'])/np.sum(split_data['count'])\n",
    "        counts = edge_df['count']\n",
    "        entropy_d = 0\n",
    "        for c in counts:\n",
    "            prop_d = c/np.sum(edge_df['count'])\n",
    "            entropy_d += -prop_d * math.log(prop_d,2)   \n",
    "        \n",
    "        a_sum += prop * entropy_d\n",
    "    return a_sum\n",
    "    "
   ]
  },
  {
   "cell_type": "code",
   "execution_count": 175,
   "metadata": {
    "collapsed": false
   },
   "outputs": [],
   "source": [
    "res = setup()\n",
    "df = res[0]"
   ]
  },
  {
   "cell_type": "code",
   "execution_count": 192,
   "metadata": {
    "collapsed": false,
    "scrolled": true
   },
   "outputs": [
    {
     "data": {
      "text/html": [
       "<div>\n",
       "<table border=\"1\" class=\"dataframe\">\n",
       "  <thead>\n",
       "    <tr style=\"text-align: right;\">\n",
       "      <th></th>\n",
       "      <th>Education</th>\n",
       "      <th>Vote</th>\n",
       "      <th>count</th>\n",
       "    </tr>\n",
       "  </thead>\n",
       "  <tbody>\n",
       "    <tr>\n",
       "      <th>0</th>\n",
       "      <td>College</td>\n",
       "      <td>McCain</td>\n",
       "      <td>4</td>\n",
       "    </tr>\n",
       "    <tr>\n",
       "      <th>1</th>\n",
       "      <td>College</td>\n",
       "      <td>Obama</td>\n",
       "      <td>6</td>\n",
       "    </tr>\n",
       "    <tr>\n",
       "      <th>2</th>\n",
       "      <td>H.S. diploma or less</td>\n",
       "      <td>McCain</td>\n",
       "      <td>6</td>\n",
       "    </tr>\n",
       "    <tr>\n",
       "      <th>3</th>\n",
       "      <td>H.S. diploma or less</td>\n",
       "      <td>Obama</td>\n",
       "      <td>2</td>\n",
       "    </tr>\n",
       "    <tr>\n",
       "      <th>4</th>\n",
       "      <td>Post-Grad</td>\n",
       "      <td>Obama</td>\n",
       "      <td>2</td>\n",
       "    </tr>\n",
       "  </tbody>\n",
       "</table>\n",
       "</div>"
      ],
      "text/plain": [
       "              Education    Vote  count\n",
       "0               College  McCain      4\n",
       "1               College   Obama      6\n",
       "2  H.S. diploma or less  McCain      6\n",
       "3  H.S. diploma or less   Obama      2\n",
       "4             Post-Grad   Obama      2"
      ]
     },
     "execution_count": 192,
     "metadata": {},
     "output_type": "execute_result"
    }
   ],
   "source": [
    "split_data = df[[\"Education\",\"Vote\"]]\n",
    "#pd.pivot_table(temp, index = \"Education\",columns = 'Vote')\n",
    "split_data = split_data.groupby([\"Education\",\"Vote\"]).size().to_frame()\n",
    "split_data.reset_index(inplace=True)\n",
    "split_data.rename(columns = {0:\"count\"},inplace = True)\n",
    "split_data"
   ]
  },
  {
   "cell_type": "code",
   "execution_count": 187,
   "metadata": {
    "collapsed": false
   },
   "outputs": [
    {
     "name": "stdout",
     "output_type": "stream",
     "text": [
      "1.0\n",
      "0.809986547011\n"
     ]
    },
    {
     "data": {
      "text/plain": [
       "0.13961680570909835"
      ]
     },
     "execution_count": 187,
     "metadata": {},
     "output_type": "execute_result"
    }
   ],
   "source": [
    "gain_ratio(df,\"Education\",\"Vote\")"
   ]
  },
  {
   "cell_type": "code",
   "execution_count": 203,
   "metadata": {
    "collapsed": false
   },
   "outputs": [
    {
     "data": {
      "text/plain": [
       "0.19015000000000004"
      ]
     },
     "execution_count": 203,
     "metadata": {},
     "output_type": "execute_result"
    }
   ],
   "source": [
    "-(4/10) * math.log((4/10),2) + -(6/10) * math.log((6/10),2)\n",
    "\n",
    "\n",
    "\n",
    "-(6/8) * math.log((6/8),2) + -(2/8) * math.log((2/8),2)\n",
    "\n",
    "0.4 * .811\n",
    ".3244+ .48545\n",
    "1-.80985\n"
   ]
  },
  {
   "cell_type": "code",
   "execution_count": 206,
   "metadata": {
    "collapsed": false
   },
   "outputs": [
    {
     "data": {
      "text/plain": [
       "1.3609640474436813"
      ]
     },
     "execution_count": 206,
     "metadata": {},
     "output_type": "execute_result"
    }
   ],
   "source": [
    "-(10/20) * math.log((10/20),2) + -(8/20) * math.log((8/20),2) + -(2/20) * math.log((2/20),2)"
   ]
  },
  {
   "cell_type": "code",
   "execution_count": 207,
   "metadata": {
    "collapsed": false
   },
   "outputs": [
    {
     "data": {
      "text/plain": [
       "0.13960323291697282"
      ]
     },
     "execution_count": 207,
     "metadata": {},
     "output_type": "execute_result"
    }
   ],
   "source": [
    "0.19/1.361"
   ]
  }
 ],
 "metadata": {
  "anaconda-cloud": {},
  "kernelspec": {
   "display_name": "Python [Anaconda3]",
   "language": "python",
   "name": "Python [Anaconda3]"
  },
  "language_info": {
   "codemirror_mode": {
    "name": "ipython",
    "version": 3
   },
   "file_extension": ".py",
   "mimetype": "text/x-python",
   "name": "python",
   "nbconvert_exporter": "python",
   "pygments_lexer": "ipython3",
   "version": "3.5.2"
  }
 },
 "nbformat": 4,
 "nbformat_minor": 0
}
