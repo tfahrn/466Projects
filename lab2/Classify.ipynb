{
 "cells": [
  {
   "cell_type": "code",
   "execution_count": 223,
   "metadata": {
    "collapsed": true
   },
   "outputs": [],
   "source": [
    "from anytree.importer import JsonImporter\n",
    "from anytree import RenderTree\n",
    "import pandas as pd"
   ]
  },
  {
   "cell_type": "code",
   "execution_count": 224,
   "metadata": {
    "collapsed": true
   },
   "outputs": [],
   "source": [
    "def tree_from_file(file):\n",
    "    importer = JsonImporter()\n",
    "    data = open(file, 'r').read()\n",
    "    root = importer.import_(data)\n",
    "    \n",
    "    return root"
   ]
  },
  {
   "cell_type": "code",
   "execution_count": 225,
   "metadata": {
    "collapsed": true
   },
   "outputs": [],
   "source": [
    "def get_pred(tree, df, row):\n",
    "    if tree.name == \"Obama\" or tree.name == \"McCain\":\n",
    "        return tree.name\n",
    "    \n",
    "    split = tree.name\n",
    "    row_value = row[df.columns.get_loc(split) + 1]\n",
    "    \n",
    "    for child in tree.children:\n",
    "        if child.edge == row_value:\n",
    "            return get_pred(child, df, row)"
   ]
  },
  {
   "cell_type": "code",
   "execution_count": 226,
   "metadata": {},
   "outputs": [],
   "source": [
    "def main():\n",
    "    json_file = \"data/tree01-1000.json\"\n",
    "    csv_file = \"data/tree01-1000-words.csv\"\n",
    "    category_variable = \"Vote\"\n",
    "    \n",
    "    df = pd.read_csv(csv_file,skiprows=[1,2])\n",
    "    df.drop(\"Id\",inplace = True,axis = 1)\n",
    "    tree = tree_from_file(json_file)\n",
    "    \n",
    "    preds = []\n",
    "    num_correct = 0\n",
    "    num_incorrect = 0\n",
    "    for row in df.itertuples():\n",
    "        pred = get_pred(tree, df, row)\n",
    "        preds.append(pred)\n",
    "        \n",
    "        if category_variable in df.columns:\n",
    "            index = df.columns.get_loc(category_variable)\n",
    "            if pred == row[index+1]:\n",
    "                num_correct += 1\n",
    "            else:\n",
    "                num_incorrect += 1\n",
    "    \n",
    "    print(preds)\n",
    "    print(\"Number of records classified:\", len(preds))\n",
    "    if category_variable in df.columns:\n",
    "        print(\"Number of records correctly classified:\", num_correct)\n",
    "        print(\"Number of records incorrectly classified:\", num_incorrect)\n",
    "        print(\"Accuracy:\", num_correct/(num_correct + num_incorrect))\n",
    "        print(\"Error rate:\", 1 - num_correct/(num_correct + num_incorrect))"
   ]
  },
  {
   "cell_type": "code",
   "execution_count": 227,
   "metadata": {},
   "outputs": [
    {
     "name": "stdout",
     "output_type": "stream",
     "text": [
      "['Obama', 'Obama', 'Obama', 'Obama', 'McCain', 'Obama', 'Obama', 'Obama', 'Obama', 'Obama', 'Obama', 'Obama', 'McCain', 'McCain', 'Obama', 'McCain', 'Obama', 'Obama', 'Obama', 'Obama', 'Obama', 'Obama', 'Obama', 'Obama', 'Obama', 'Obama', 'Obama', 'Obama', 'Obama', 'Obama', 'Obama', 'Obama', 'Obama', 'Obama', 'Obama', 'Obama', 'McCain', 'Obama', 'Obama', 'Obama', 'Obama', 'Obama', 'Obama', 'Obama', 'Obama', 'Obama', 'Obama', 'Obama', 'Obama', 'Obama', 'Obama', 'Obama', 'Obama', 'Obama', 'Obama', 'Obama', 'Obama', 'Obama', 'Obama', 'Obama', 'McCain', 'Obama', 'Obama', 'Obama', 'Obama', 'Obama', 'Obama', 'Obama', 'Obama', 'Obama', 'Obama', 'Obama', 'Obama', 'Obama', 'Obama', 'Obama', 'McCain', 'Obama', 'Obama', 'Obama', 'Obama', 'Obama', 'McCain', 'Obama', 'Obama', 'Obama', 'Obama', 'Obama', 'Obama', 'McCain', 'Obama', 'Obama', 'Obama', 'Obama', 'Obama', 'Obama', 'Obama', 'Obama', 'Obama', 'Obama', 'Obama', 'Obama', 'McCain', 'Obama', 'Obama', 'Obama', 'Obama', 'Obama', 'Obama', 'Obama', 'McCain', 'McCain', 'Obama', 'Obama', 'Obama', 'Obama', 'Obama', 'Obama', 'Obama', 'Obama', 'Obama', 'Obama', 'Obama', 'Obama', 'Obama', 'Obama', 'Obama', 'Obama', 'McCain', 'Obama', 'Obama', 'Obama', 'Obama', 'Obama', 'Obama', 'Obama', 'Obama', 'Obama', 'Obama', 'Obama', 'Obama', 'Obama', 'Obama', 'McCain', 'Obama', 'Obama', 'McCain', 'Obama', 'Obama', 'Obama', 'Obama', 'Obama', 'Obama', 'Obama', 'Obama', 'Obama', 'Obama', 'Obama', 'Obama', 'McCain', 'Obama', 'Obama', 'Obama', 'Obama', 'Obama', 'Obama', 'Obama', 'Obama', 'Obama', 'Obama', 'Obama', 'Obama', 'Obama', 'Obama', 'Obama', 'Obama', 'Obama', 'Obama', 'Obama', 'Obama', 'Obama', 'Obama', 'Obama', 'McCain', 'Obama', 'Obama', 'Obama', 'Obama', 'Obama', 'Obama', 'Obama', 'Obama', 'Obama', 'Obama', 'Obama', 'Obama', 'Obama', 'Obama', 'Obama', 'McCain', 'Obama', 'Obama', 'Obama', 'Obama', 'Obama', 'Obama', 'Obama', 'Obama', 'Obama', 'Obama', 'McCain', 'Obama', 'Obama', 'Obama', 'Obama', 'Obama', 'Obama', 'Obama', 'Obama', 'McCain', 'McCain', 'McCain', 'Obama', 'Obama', 'Obama', 'Obama', 'Obama', 'Obama', 'Obama', 'Obama', 'Obama', 'McCain', 'McCain', 'Obama', 'Obama', 'Obama', 'Obama', 'Obama', 'Obama', 'Obama', 'Obama', 'Obama', 'Obama', 'Obama', 'Obama', 'Obama', 'Obama', 'Obama', 'Obama', 'Obama', 'Obama', 'McCain', 'Obama', 'Obama', 'Obama', 'Obama', 'Obama', 'Obama', 'Obama', 'Obama', 'Obama', 'Obama', 'Obama', 'Obama', 'Obama', 'McCain', 'Obama', 'Obama', 'Obama', 'Obama', 'Obama', 'Obama', 'Obama', 'Obama', 'Obama', 'Obama', 'Obama', 'Obama', 'Obama', 'Obama', 'Obama', 'Obama', 'Obama', 'Obama', 'Obama', 'Obama', 'Obama', 'Obama', 'Obama', 'Obama', 'Obama', 'Obama', 'Obama', 'Obama', 'Obama', 'Obama', 'Obama', 'Obama', 'Obama', 'Obama', 'Obama', 'Obama', 'Obama', 'Obama', 'Obama', 'Obama', 'Obama', 'Obama', 'Obama', 'McCain', 'Obama', 'Obama', 'Obama', 'Obama', 'Obama', 'Obama', 'Obama', 'Obama', 'Obama', 'Obama', 'Obama', 'Obama', 'Obama', 'Obama', 'Obama', 'Obama', 'Obama', 'Obama', 'Obama', 'Obama', 'Obama', 'Obama', 'Obama', 'Obama', 'Obama', 'Obama', 'Obama', 'Obama', 'Obama', 'Obama', 'McCain', 'Obama', 'Obama', 'Obama', 'Obama', 'Obama', 'Obama', 'Obama', 'Obama', 'Obama', 'Obama', 'Obama', 'Obama', 'Obama', 'McCain', 'Obama', 'Obama', 'Obama', 'Obama', 'Obama', 'Obama', 'Obama', 'McCain', 'Obama', 'Obama', 'Obama', 'Obama', 'Obama', 'Obama', 'Obama', 'Obama', 'Obama', 'Obama', 'Obama', 'Obama', 'McCain', 'Obama', 'Obama', 'Obama', 'Obama', 'Obama', 'McCain', 'Obama', 'Obama', 'McCain', 'McCain', 'Obama', 'Obama', 'Obama', 'Obama', 'Obama', 'Obama', 'Obama', 'Obama', 'Obama', 'Obama', 'Obama', 'Obama', 'Obama', 'Obama', 'Obama', 'Obama', 'Obama', 'Obama', 'Obama', 'McCain', 'Obama', 'Obama', 'Obama', 'Obama', 'Obama', 'Obama', 'Obama', 'Obama', 'Obama', 'McCain', 'Obama', 'Obama', 'Obama', 'Obama', 'Obama', 'Obama', 'Obama', 'Obama', 'Obama', 'Obama', 'Obama', 'McCain', 'Obama', 'Obama', 'Obama', 'Obama', 'Obama', 'Obama', 'Obama', 'McCain', 'Obama', 'Obama', 'Obama', 'Obama', 'Obama', 'Obama', 'Obama', 'Obama', 'Obama', 'McCain', 'Obama', 'Obama', 'Obama', 'Obama', 'Obama', 'Obama', 'Obama', 'Obama', 'Obama', 'Obama', 'Obama', 'Obama', 'Obama', 'Obama', 'Obama', 'Obama', 'Obama', 'Obama', 'Obama', 'Obama', 'Obama', 'Obama', 'Obama', 'Obama', 'Obama', 'Obama', 'Obama', 'Obama', 'Obama', 'Obama', 'Obama', 'Obama', 'Obama', 'Obama', 'Obama', 'Obama', 'Obama', 'Obama', 'Obama', 'Obama', 'Obama', 'Obama', 'Obama', 'Obama', 'Obama', 'Obama', 'McCain', 'Obama', 'Obama', 'Obama', 'Obama', 'McCain', 'Obama', 'Obama', 'Obama', 'Obama', 'Obama', 'Obama', 'Obama', 'Obama', 'Obama', 'Obama', 'Obama', 'Obama', 'Obama', 'Obama', 'Obama', 'Obama', 'Obama', 'Obama', 'Obama', 'Obama', 'Obama', 'Obama', 'Obama', 'McCain', 'Obama', 'Obama', 'Obama', 'Obama', 'Obama', 'Obama', 'Obama', 'Obama', 'Obama', 'Obama', 'Obama', 'Obama', 'Obama', 'Obama', 'Obama', 'Obama', 'Obama', 'Obama', 'Obama', 'Obama', 'Obama', 'Obama', 'Obama', 'Obama', 'Obama', 'Obama', 'Obama', 'Obama', 'Obama', 'Obama', 'Obama', 'Obama', 'Obama', 'Obama', 'Obama', 'Obama', 'Obama', 'Obama', 'Obama', 'Obama', 'Obama', 'Obama', 'Obama', 'Obama', 'Obama', 'Obama', 'McCain', 'Obama', 'McCain', 'Obama', 'McCain', 'Obama', 'McCain', 'Obama', 'Obama', 'Obama', 'Obama', 'Obama', 'Obama', 'Obama', 'Obama', 'McCain', 'Obama', 'Obama', 'Obama', 'Obama', 'Obama', 'Obama', 'Obama', 'Obama', 'Obama', 'Obama', 'Obama', 'Obama', 'Obama', 'Obama', 'Obama', 'Obama', 'Obama', 'Obama', 'Obama', 'Obama', 'Obama', 'Obama', 'Obama', 'McCain', 'Obama', 'Obama', 'Obama', 'McCain', 'Obama', 'Obama', 'Obama', 'Obama', 'Obama', 'Obama', 'Obama', 'Obama', 'Obama', 'Obama', 'Obama', 'Obama', 'McCain', 'Obama', 'McCain', 'Obama', 'McCain', 'Obama', 'Obama', 'Obama', 'Obama', 'Obama', 'McCain', 'Obama', 'Obama', 'Obama', 'Obama', 'Obama', 'Obama', 'Obama', 'Obama', 'McCain', 'Obama', 'Obama', 'Obama', 'Obama', 'Obama', 'Obama', 'McCain', 'Obama', 'Obama', 'Obama', 'Obama', 'Obama', 'Obama', 'Obama', 'Obama', 'Obama', 'Obama', 'Obama', 'Obama', 'Obama', 'Obama', 'Obama', 'Obama', 'Obama', 'Obama', 'Obama', 'Obama', 'Obama', 'McCain', 'McCain', 'Obama', 'Obama', 'Obama', 'Obama', 'Obama', 'Obama', 'Obama', 'Obama', 'Obama', 'Obama', 'Obama', 'Obama', 'Obama', 'Obama', 'Obama', 'Obama', 'Obama', 'Obama', 'Obama', 'Obama', 'Obama', 'Obama', 'Obama', 'Obama', 'Obama', 'Obama', 'Obama', 'Obama', 'Obama', 'Obama', 'Obama', 'Obama', 'Obama', 'Obama', 'Obama', 'Obama', 'Obama', 'Obama', 'Obama', 'Obama', 'Obama', 'Obama', 'Obama', 'Obama', 'Obama', 'Obama', 'Obama', 'Obama', 'Obama', 'Obama', 'Obama', 'Obama', 'Obama', 'Obama', 'Obama', 'McCain', 'Obama', 'Obama', 'Obama', 'Obama', 'Obama', 'Obama', 'Obama', 'Obama', 'Obama', 'Obama', 'Obama', 'Obama', 'McCain', 'Obama', 'Obama', 'Obama', 'Obama', 'Obama', 'Obama', 'Obama', 'Obama', 'Obama', 'McCain', 'Obama', 'Obama', 'Obama', 'Obama', 'Obama', 'Obama', 'Obama', 'Obama', 'Obama', 'Obama', 'Obama', 'Obama', 'Obama', 'Obama', 'Obama', 'Obama', 'Obama', 'Obama', 'Obama', 'Obama', 'Obama', 'Obama', 'Obama', 'Obama', 'Obama', 'Obama', 'Obama', 'Obama', 'Obama', 'Obama', 'Obama', 'Obama', 'Obama', 'Obama', 'Obama', 'Obama', 'Obama', 'Obama', 'Obama', 'Obama', 'Obama', 'Obama', 'Obama', 'Obama', 'Obama', 'Obama', 'Obama', 'Obama', 'Obama', 'Obama', 'Obama', 'Obama', 'Obama', 'Obama', 'Obama', 'Obama', 'Obama', 'Obama', 'Obama', 'Obama', 'Obama', 'Obama', 'Obama', 'Obama', 'Obama', 'Obama', 'Obama', 'Obama', 'Obama', 'McCain', 'Obama', 'Obama', 'Obama', 'Obama', 'Obama', 'Obama', 'Obama', 'Obama', 'Obama', 'Obama', 'Obama', 'Obama', 'Obama', 'Obama', 'Obama', 'Obama', 'Obama', 'Obama', 'Obama', 'Obama', 'Obama', 'Obama', 'Obama', 'Obama', 'Obama', 'Obama', 'Obama', 'Obama', 'Obama', 'Obama', 'Obama', 'Obama', 'Obama', 'Obama', 'Obama', 'Obama', 'Obama', 'McCain', 'Obama', 'Obama', 'Obama', 'Obama', 'Obama', 'Obama', 'Obama', 'Obama', 'Obama', 'Obama', 'Obama', 'Obama', 'Obama', 'Obama', 'Obama', 'Obama', 'Obama', 'Obama', 'Obama', 'Obama', 'Obama', 'Obama', 'Obama', 'Obama', 'Obama', 'Obama', 'Obama', 'Obama', 'Obama', 'Obama', 'Obama', 'Obama', 'Obama', 'Obama', 'Obama', 'Obama', 'Obama', 'Obama', 'Obama', 'Obama', 'Obama', 'Obama', 'Obama', 'Obama', 'Obama', 'Obama', 'Obama', 'Obama', 'Obama', 'Obama', 'Obama', 'Obama', 'Obama', 'Obama', 'Obama', 'Obama', 'Obama', 'Obama', 'Obama', 'Obama', 'Obama', 'Obama', 'Obama', 'Obama', 'Obama', 'Obama', 'Obama', 'Obama', 'Obama', 'Obama', 'Obama', 'McCain', 'Obama', 'Obama', 'Obama', 'Obama', 'Obama', 'Obama', 'Obama', 'Obama', 'Obama', 'Obama', 'Obama', 'McCain', 'McCain', 'McCain', 'Obama', 'Obama', 'Obama', 'Obama', 'Obama', 'Obama', 'Obama', 'Obama', 'Obama', 'Obama', 'Obama', 'McCain', 'Obama', 'Obama', 'Obama', 'Obama', 'Obama', 'Obama', 'Obama', 'Obama', 'Obama', 'Obama', 'Obama', 'Obama', 'Obama', 'Obama', 'Obama', 'Obama', 'Obama', 'Obama', 'Obama', 'Obama', 'Obama', 'Obama', 'Obama', 'Obama', 'Obama', 'Obama', 'McCain', 'Obama', 'Obama', 'Obama', 'Obama', 'Obama', 'Obama', 'Obama', 'Obama', 'Obama', 'Obama', 'McCain', 'Obama', 'Obama', 'Obama']\n",
      "Number of records classified: 1000\n",
      "Number of records correctly classified: 996\n",
      "Number of records incorrectly classified: 4\n",
      "Accuracy: 0.996\n",
      "Error rate: 0.0040000000000000036\n"
     ]
    }
   ],
   "source": [
    "main()"
   ]
  }
 ],
 "metadata": {
  "kernelspec": {
   "display_name": "Python 3",
   "language": "python",
   "name": "python3"
  },
  "language_info": {
   "codemirror_mode": {
    "name": "ipython",
    "version": 3
   },
   "file_extension": ".py",
   "mimetype": "text/x-python",
   "name": "python",
   "nbconvert_exporter": "python",
   "pygments_lexer": "ipython3",
   "version": "3.6.3"
  }
 },
 "nbformat": 4,
 "nbformat_minor": 2
}
